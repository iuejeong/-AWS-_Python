{
 "cells": [
  {
   "cell_type": "code",
   "execution_count": 3,
   "id": "c0aae009",
   "metadata": {},
   "outputs": [
    {
     "name": "stdout",
     "output_type": "stream",
     "text": [
      "myfunction\n"
     ]
    }
   ],
   "source": [
    "# 함수\n",
    "# define\n",
    "def function_name():\n",
    "    print('myfunction')\n",
    "    \n",
    "function_name()"
   ]
  },
  {
   "cell_type": "code",
   "execution_count": 23,
   "id": "59c2e54d",
   "metadata": {},
   "outputs": [
    {
     "name": "stdout",
     "output_type": "stream",
     "text": [
      "fn7 start\n",
      "abc,def \n"
     ]
    }
   ],
   "source": [
    "# function argument\n",
    "def myfn1():\n",
    "    print('myfn1')\n",
    "    \n",
    "def myfn2(arg1):\n",
    "    print(arg1)\n",
    " \n",
    "def myfn3(arg1 = 'a', arg2 = 'b'):\n",
    "    print(arg1, arg2)\n",
    "    \n",
    "def myfn4(*arg1):\n",
    "    for i in arg1:    \n",
    "        print(i)\n",
    "        \n",
    "def myfn5(arg1, *, arg2, arg3):\n",
    "    print(arg1, arg2, arg3)\n",
    "    \n",
    "def myfn6(arg1, /, arg2, arg3):\n",
    "    print(arg1, arg2, arg3)\n",
    "    \n",
    "def myfn7(arg1, arg2):\n",
    "    print(arg1)\n",
    "    arg2('abc,' 'def') # 함수 호출\n",
    "\n",
    "#myfn2('abc')\n",
    "#myfn3(10, 20)\n",
    "#myfn3(arg2 = 10, arg1 = 20)\n",
    "#myfn3()\n",
    "#myfn4(1,2,3,4)\n",
    "#myfn2([1,2,3,4])\n",
    "#myfn5('a', arg3 = 'c', arg2 = 'b')\n",
    "#myfn5(arg3 = 'c', arg1 = 'a', arg2 = 'b')\n",
    "#myfn6('a', 'b', 'c')\n",
    "#myfn6(arg1 = 'a', arg2 = 'b', arg3 = 'c')\n",
    "myfn7('fn7 start', myfn3)"
   ]
  },
  {
   "cell_type": "code",
   "execution_count": 29,
   "id": "9e75046f",
   "metadata": {},
   "outputs": [
    {
     "name": "stdout",
     "output_type": "stream",
     "text": [
      "(10, 20)\n"
     ]
    }
   ],
   "source": [
    "# function return\n",
    "def myfn8():\n",
    "    print('myfn8')\n",
    "\n",
    "def myfn9():\n",
    "    return 10\n",
    "\n",
    "def myfn10():\n",
    "    return 10, 20\n",
    "    \n",
    "#ret_value = myfn8()\n",
    "ret_value = myfn10()\n",
    "print(ret_value)"
   ]
  }
 ],
 "metadata": {
  "kernelspec": {
   "display_name": "Python 3 (ipykernel)",
   "language": "python",
   "name": "python3"
  },
  "language_info": {
   "codemirror_mode": {
    "name": "ipython",
    "version": 3
   },
   "file_extension": ".py",
   "mimetype": "text/x-python",
   "name": "python",
   "nbconvert_exporter": "python",
   "pygments_lexer": "ipython3",
   "version": "3.10.9"
  }
 },
 "nbformat": 4,
 "nbformat_minor": 5
}
