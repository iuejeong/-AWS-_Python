{
 "cells": [
  {
   "cell_type": "code",
   "execution_count": 2,
   "id": "cde21564",
   "metadata": {},
   "outputs": [
    {
     "name": "stdout",
     "output_type": "stream",
     "text": [
      "{'clover-Ace': 1, 'clover-2': 2, 'clover-3': 3, 'clover-4': 4, 'clover-5': 5, 'clover-6': 6, 'clover-7': 7, 'clover-8': 8, 'clover-9': 9, 'clover-10': 10, 'clover-Jack': 10, 'clover-Queen': 10, 'clover-King': 10, 'diamond-Ace': 1, 'diamond-2': 2, 'diamond-3': 3, 'diamond-4': 4, 'diamond-5': 5, 'diamond-6': 6, 'diamond-7': 7, 'diamond-8': 8, 'diamond-9': 9, 'diamond-10': 10, 'diamond-Jack': 10, 'diamond-Queen': 10, 'diamond-King': 10, 'heart-Ace': 1, 'heart-2': 2, 'heart-3': 3, 'heart-4': 4, 'heart-5': 5, 'heart-6': 6, 'heart-7': 7, 'heart-8': 8, 'heart-9': 9, 'heart-10': 10, 'heart-Jack': 10, 'heart-Queen': 10, 'heart-King': 10, 'spade-Ace': 1, 'spade-2': 2, 'spade-3': 3, 'spade-4': 4, 'spade-5': 5, 'spade-6': 6, 'spade-7': 7, 'spade-8': 8, 'spade-9': 9, 'spade-10': 10, 'spade-Jack': 10, 'spade-Queen': 10, 'spade-King': 10}\n"
     ]
    }
   ],
   "source": [
    "import random\n",
    "\n",
    "suits = ['clover', 'diamond', 'heart', 'spade']\n",
    "rank = [str(i) for i in range(2, 11)]\n",
    "rank = ['Ace'] + rank + ['Jack', 'Queen', 'King']\n",
    "Deck = []              # 'Cover-Ace', 'Cover-2' ....\n",
    "for s in suits:\n",
    "    for r in rank:\n",
    "        Deck.append(s + '-' + r)\n",
    "        \n",
    "score_list = [i + 1 for i in range(10)]\n",
    "score_list = score_list + [10] * 3\n",
    "score_list = score_list * 4\n",
    "score_dict = dict(zip(Deck, score_list))\n",
    "print(score_dict)\n",
    "#print(Deck)\n",
    "#print(score_list)\n",
    "\n",
    "def score_hand(hand):\n",
    "    score = 0\n",
    "    for card in hand:\n",
    "        score = score + score_dict[card]\n",
    "    return score"
   ]
  },
  {
   "cell_type": "code",
   "execution_count": 3,
   "id": "713c84ae",
   "metadata": {},
   "outputs": [
    {
     "name": "stdout",
     "output_type": "stream",
     "text": [
      "['diamond-7', 'heart-Jack', 'heart-4', 'diamond-10', 'heart-2', 'heart-King', 'spade-10', 'clover-5', 'spade-8', 'diamond-Jack', 'diamond-King', 'clover-4', 'clover-Queen', 'heart-7', 'clover-10', 'spade-2', 'diamond-6', 'diamond-Ace', 'heart-Queen', 'diamond-8', 'heart-Ace', 'clover-King', 'diamond-Queen', 'spade-4', 'spade-3', 'heart-5', 'spade-6', 'clover-2', 'spade-Queen', 'diamond-4', 'clover-6', 'heart-6', 'clover-8', 'clover-Ace', 'diamond-2', 'heart-8', 'diamond-3', 'spade-Ace', 'spade-Jack', 'spade-7', 'heart-3', 'heart-10', 'clover-3', 'diamond-5', 'diamond-9', 'spade-9', 'clover-7', 'heart-9', 'clover-Jack', 'clover-9', 'spade-5', 'spade-King']\n"
     ]
    }
   ],
   "source": [
    "random.shuffle(Deck)\n",
    "print(Deck)"
   ]
  },
  {
   "cell_type": "code",
   "execution_count": 14,
   "id": "8bb4fd58",
   "metadata": {},
   "outputs": [
    {
     "name": "stdout",
     "output_type": "stream",
     "text": [
      "Dealer Hands\n",
      "['heart-5', 'clover-King'] 15\n",
      "\n",
      "\n",
      "Player hands\n",
      "['spade-4', 'spade-9'] 13\n",
      "Deal(1) or Stop(0):1\n",
      "['spade-4', 'spade-9', 'diamond-Ace'] 14\n",
      "Victory Dealer\n"
     ]
    }
   ],
   "source": [
    "# print('Game Start\\n')\n",
    "random.shuffle(Deck)\n",
    "print('Dealer Hands')\n",
    "dealer_hand = [Deck.pop() for _ in range(2)]\n",
    "print(dealer_hand, score_hand(dealer_hand))\n",
    "    \n",
    "print('\\n\\nPlayer hands')\n",
    "player_hand = [Deck.pop() for _ in range(2)]\n",
    "print(player_hand, score_hand(player_hand))\n",
    "\n",
    "if score_hand(player_hand) < 21:\n",
    "    ans = int(input('Deal(1) or Stop(0):'))\n",
    "    if ans == 1:\n",
    "        player_hand.append(Deck.pop())\n",
    "        print(player_hand, score_hand(player_hand))\n",
    "        \n",
    "# 승부 표시\n",
    "\n",
    "if score_hand(player_hand) > score_hand(dealer_hand):\n",
    "    print('Victory Player')\n",
    "else:\n",
    "    print('Victory Dealer')\n"
   ]
  }
 ],
 "metadata": {
  "kernelspec": {
   "display_name": "Python 3 (ipykernel)",
   "language": "python",
   "name": "python3"
  },
  "language_info": {
   "codemirror_mode": {
    "name": "ipython",
    "version": 3
   },
   "file_extension": ".py",
   "mimetype": "text/x-python",
   "name": "python",
   "nbconvert_exporter": "python",
   "pygments_lexer": "ipython3",
   "version": "3.10.9"
  }
 },
 "nbformat": 4,
 "nbformat_minor": 5
}
