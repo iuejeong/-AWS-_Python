{
 "cells": [
  {
   "cell_type": "markdown",
   "id": "62ba0604",
   "metadata": {},
   "source": [
    "# 전국육교정보표준데이터\n",
    "* 제각각 계산시 결측치 있는 샘플은 버림  -- boolfilter를 이용해서 빈 값이나, 0들을 버린다\n",
    "\n",
    "- 내진설계 된 육교 퍼센트\n",
    "\n",
    "      -19.2%\n",
    "- 안전등급별 육교 개수, 비율\n",
    "\n",
    "      - ['미흡' '보통' '불량' '양호' '우수']\n",
    "        [ 2.05254516 32.01970443  0.08210181 65.27093596  0.57471264]\n",
    "\n",
    "- 육교가 만들어진 연도 vs. 장애인편의시설 간 상관관계\n",
    "     연도, 장애인편의시설 갖춘 육교의 개수 / 해당연도 건설 육교 개수\n",
    "     \n",
    "     \n",
    "     \n",
    "- 육교연장, 허용통행하중, 통행제한 높이에 대해 최대, 최소, 평균, 표준편차\n",
    "     - 길이가 가장 긴 육교 (육교연장)\n",
    "     - 가장 튼튼한 육교 (허용 통행하중)\n",
    "     - 가장 높은 육교 (통행제한 높이)"
   ]
  },
  {
   "cell_type": "code",
   "execution_count": 10,
   "id": "792df6b0",
   "metadata": {},
   "outputs": [],
   "source": [
    "import numpy as np\n",
    "import math\n",
    "\n",
    "def my_split(s):\n",
    "    block_start = False\n",
    "    start_index = 0\n",
    "    ret_list=[]\n",
    "    for i, c in enumerate(s):\n",
    "        if block_start==False:\n",
    "            if c==',':\n",
    "                ret_list.append(s[start_index:i])\n",
    "                start_index=i+1\n",
    "            elif c=='\"':\n",
    "                block_start=True\n",
    "                start_index = i\n",
    "        else:\n",
    "            if c=='\"':\n",
    "                block_start=False\n",
    "    if s[-1]!=',':\n",
    "        ret_list.append(s[start_index:])\n",
    "    return ret_list\n",
    "\n",
    "def split_len(data_list):\n",
    "    len_list=[]\n",
    "    for e in data_list:\n",
    "        len_list.append(len(e))\n",
    "    print(set(len_list))\n",
    "    if len(set(len_list))>1:\n",
    "        for i in set(len_list):\n",
    "            print(i, len_list.count(i))\n",
    "    return set(len_list)\n",
    "\n",
    "def dist_np(p1, p2): #  [3,10]  [5,25]\n",
    "    return math.sqrt(sum((p2-p1)**2))"
   ]
  },
  {
   "cell_type": "code",
   "execution_count": 84,
   "id": "f6288fa7",
   "metadata": {},
   "outputs": [
    {
     "name": "stdout",
     "output_type": "stream",
     "text": [
      "[['육교명', '도로종류', '도로노선번호', '도로노선명', '소재지도로명주소', '위도', '경도', '육교연장', '육교높이', '허용통행하중', '통행제한높이', '육교폭', '난간높이', '조명개수', '장애인편의시설설치여부', '장애인편의시설종류', '장애인편의시설수량', '부대시설종류', '부대시설수량', '육교준공일자', '내진설계적용여부', '안전등급', '사용제한구분', '육교보수보강내역', '최종안전점검유형', '최종안전점검일자', '관리기관명', '데이터기준일자', '제공기관코드', '제공기관명'], ['우신초교 앞 보도육교', '시도', '147', '신길로', '서울특별시 영등포구 신길로 190', '37.509263', '126.910801', '23', '4.7', '', '4.5', '3.4', '1', '8', 'Y', '점자블록+핸드레일 촉지판', '24', '', '', '1980-09-18', ' ', '보통', '제한없음', '', '정기점검', '2022-04-16', '서울특별시 영등포구청', '2022-07-04', '3180000', '서울특별시 영등포구'], ['영등포역 횡단 보도육교', '기타', '없음', '경인선', '서울특별시 영등포구 경인로94길 7', '37.513895', '126.903695', '83', '', '0.5', '5.6', '3.2', '1.8', '14', 'Y', '엘리베이터', '', '', '', '1974-12-01', ' ', '보통', '제한없음', '', '정기점검', '2022-04-16', '서울특별시 영등포구청', '2022-07-04', '3180000', '서울특별시 영등포구']]\n",
      "['a']\n"
     ]
    }
   ],
   "source": [
    "import numpy as np\n",
    "csv_data = []\n",
    "with open('전국육교정보표준데이터.csv') as f:\n",
    "    for line in f:\n",
    "        csv_data.append(my_split(line[:-1]))\n",
    "print(csv_data[:3])\n",
    "\n",
    "a1 = np.array(['a', ''])\n",
    "print(a1[a1!=''])"
   ]
  },
  {
   "cell_type": "code",
   "execution_count": 52,
   "id": "d4808f13",
   "metadata": {},
   "outputs": [
    {
     "name": "stdout",
     "output_type": "stream",
     "text": [
      "0 육교명\n",
      "1 도로종류\n",
      "2 도로노선번호\n",
      "3 도로노선명\n",
      "4 소재지도로명주소\n",
      "5 위도\n",
      "6 경도\n",
      "7 육교연장\n",
      "8 육교높이\n",
      "9 허용통행하중\n",
      "10 통행제한높이\n",
      "11 육교폭\n",
      "12 난간높이\n",
      "13 조명개수\n",
      "14 장애인편의시설설치여부\n",
      "15 장애인편의시설종류\n",
      "16 장애인편의시설수량\n",
      "17 부대시설종류\n",
      "18 부대시설수량\n",
      "19 육교준공일자\n",
      "20 내진설계적용여부\n",
      "21 안전등급\n",
      "22 사용제한구분\n",
      "23 육교보수보강내역\n",
      "24 최종안전점검유형\n",
      "25 최종안전점검일자\n",
      "26 관리기관명\n",
      "27 데이터기준일자\n",
      "28 제공기관코드\n",
      "29 제공기관명\n",
      "166\n",
      "695\n",
      "19.279907084785133\n"
     ]
    }
   ],
   "source": [
    "# for i, v in enumerate(csv_data[0]):\n",
    "#     print(i, v)\n",
    "\n",
    "# 내진 설계 비율 (20)\n",
    "\n",
    "des_list = []\n",
    "yes_list = []\n",
    "no_list = []\n",
    "\n",
    "for i in csv_data[1:]:\n",
    "    des_list.append(i[20])\n",
    "yes_list = des_list.count('Y')\n",
    "no_list = des_list.count('N')\n",
    "print(des_list.count('Y'))\n",
    "print(des_list.count('N'))\n",
    "print(yes_list * 100 / (yes_list + no_list))"
   ]
  },
  {
   "cell_type": "code",
   "execution_count": 59,
   "id": "4411fe08",
   "metadata": {},
   "outputs": [
    {
     "name": "stdout",
     "output_type": "stream",
     "text": [
      "['미흡' '보통' '불량' '양호' '우수']\n",
      "[ 2.05254516 32.01970443  0.08210181 65.27093596  0.57471264]\n"
     ]
    }
   ],
   "source": [
    "# 안전등급별 육교 개수, 비율 (21)\n",
    "\n",
    "np_data = np.array(csv_data)\n",
    "save_np = np_data[1:, 21]\n",
    "save, save_count = np.unique(save_np, return_counts = True)\n",
    "print(save)\n",
    "# print(save_count)\n",
    "\n",
    "print(save_count * 100 / sum(save_count))"
   ]
  },
  {
   "cell_type": "code",
   "execution_count": 83,
   "id": "f29913db",
   "metadata": {},
   "outputs": [
    {
     "name": "stdout",
     "output_type": "stream",
     "text": [
      "['94.5' '95' '95.8' '96' '96.6' '97.5' '97.5' '98' '98' '98']\n"
     ]
    }
   ],
   "source": [
    "# 육교연장, 허용통행하중, 통행제한 높이에 대해 최대, 최소, 평균, 표준편차 (7, 9, 10)\n",
    "\n",
    "len_np = np_data[1:, 7]\n",
    "pass_np = np_data[1:, 9]\n",
    "hei_np = np_data[1:, 10]\n",
    "\n",
    "arr = np.sort(len_np)\n",
    "# 문자열을 기준으로 정렬을 하기 때문에 numpy에서 as type 해준 후에 필터링으로 공백을 제거해주고 작업한다.\n",
    "print(arr[:])"
   ]
  }
 ],
 "metadata": {
  "kernelspec": {
   "display_name": "Python 3 (ipykernel)",
   "language": "python",
   "name": "python3"
  },
  "language_info": {
   "codemirror_mode": {
    "name": "ipython",
    "version": 3
   },
   "file_extension": ".py",
   "mimetype": "text/x-python",
   "name": "python",
   "nbconvert_exporter": "python",
   "pygments_lexer": "ipython3",
   "version": "3.10.9"
  }
 },
 "nbformat": 4,
 "nbformat_minor": 5
}
