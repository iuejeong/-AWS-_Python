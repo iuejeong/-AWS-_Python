{
 "cells": [
  {
   "cell_type": "code",
   "execution_count": 276,
   "id": "af329706",
   "metadata": {},
   "outputs": [
    {
     "data": {
      "text/plain": [
       "33"
      ]
     },
     "execution_count": 276,
     "metadata": {},
     "output_type": "execute_result"
    }
   ],
   "source": [
    "# 모듈 : 함수들의 집합\n",
    "import random # random.py를 열어줌\n",
    "\n",
    "random.randrange(0, 100, 2)"
   ]
  },
  {
   "cell_type": "code",
   "execution_count": 1003,
   "id": "2a191566",
   "metadata": {},
   "outputs": [
    {
     "data": {
      "text/plain": [
       "50"
      ]
     },
     "execution_count": 1003,
     "metadata": {},
     "output_type": "execute_result"
    }
   ],
   "source": [
    "from random import randrange as rr\n",
    "rr(0, 100, 2)"
   ]
  },
  {
   "cell_type": "code",
   "execution_count": 1000,
   "id": "9bd16f50",
   "metadata": {},
   "outputs": [
    {
     "data": {
      "text/plain": [
       "76"
      ]
     },
     "execution_count": 1000,
     "metadata": {},
     "output_type": "execute_result"
    }
   ],
   "source": [
    "import random as rand\n",
    "\n",
    "rand.randrange(0, 100, 2)"
   ]
  },
  {
   "cell_type": "code",
   "execution_count": 1005,
   "id": "2343fbd5",
   "metadata": {},
   "outputs": [
    {
     "name": "stdout",
     "output_type": "stream",
     "text": [
      "mymodule\n"
     ]
    }
   ],
   "source": [
    "import mymodule\n",
    "\n",
    "mymodule.myfn1('mymodule')"
   ]
  }
 ],
 "metadata": {
  "kernelspec": {
   "display_name": "Python 3 (ipykernel)",
   "language": "python",
   "name": "python3"
  },
  "language_info": {
   "codemirror_mode": {
    "name": "ipython",
    "version": 3
   },
   "file_extension": ".py",
   "mimetype": "text/x-python",
   "name": "python",
   "nbconvert_exporter": "python",
   "pygments_lexer": "ipython3",
   "version": "3.10.9"
  }
 },
 "nbformat": 4,
 "nbformat_minor": 5
}
