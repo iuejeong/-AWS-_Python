{
 "cells": [
  {
   "cell_type": "code",
   "execution_count": 2,
   "id": "2c18e727",
   "metadata": {},
   "outputs": [],
   "source": [
    "import numpy as np    # ! pip install numpy   import에서 하고 싶은 것들이 설치가 안 되어있을 때 설치해주는 코드"
   ]
  },
  {
   "cell_type": "code",
   "execution_count": 10,
   "id": "be46e06c",
   "metadata": {},
   "outputs": [
    {
     "name": "stdout",
     "output_type": "stream",
     "text": [
      "[1, 2, 3, 4, 5]\n",
      "[1 2 3 4 5]\n",
      "<class 'numpy.ndarray'>\n"
     ]
    }
   ],
   "source": [
    "a1 = np.array([1, 2, 3, 4, 5])    # 다른 코드를 읽어들어왔을 때\n",
    "print([1, 2, 3, 4, 5])    # 배열이랑 다르다는 것을 보여줌\n",
    "print(a1)\n",
    "print(type(a1))           # ndarray는 데이터 타입이 동일해야 한다."
   ]
  },
  {
   "cell_type": "code",
   "execution_count": 22,
   "id": "74b298cd",
   "metadata": {},
   "outputs": [
    {
     "name": "stdout",
     "output_type": "stream",
     "text": [
      "[0 1 2 3 4 5 6 7 8 9]\n",
      "[ 3  6  9 12 15 18 21 24 27 30 33 36 39 42 45 48 51 54 57 60 63 66 69 72\n",
      " 75 78 81 84 87 90 93 96 99]\n",
      "[1.3 1.8 2.3 2.8 3.3 3.8 4.3 4.8 5.3 5.8 6.3 6.8 7.3 7.8 8.3 8.8 9.3 9.8]\n"
     ]
    }
   ],
   "source": [
    "a2 = np.arange(10)\n",
    "print(a2)\n",
    "\n",
    "# 변수 a3, 100 아래 3의 배수\n",
    "\n",
    "a3 = np.arange(3, 100, 3)\n",
    "print(a3)\n",
    "\n",
    "# 1에서부터 10 아래 0.5씩 증가하는 숫자, step = 0.5\n",
    "a4 = np.arange(1.3, 10, 0.5)\n",
    "print(a4)\n",
    "\n",
    "# lista = [i for i in range(1.3, 10, 0.5)]   파이썬은 실수 x"
   ]
  },
  {
   "cell_type": "code",
   "execution_count": 39,
   "id": "05f1da8b",
   "metadata": {
    "scrolled": false
   },
   "outputs": [
    {
     "name": "stdout",
     "output_type": "stream",
     "text": [
      "[ 0.          1.11111111  2.22222222  3.33333333  4.44444444  5.55555556\n",
      "  6.66666667  7.77777778  8.88888889 10.        ]\n"
     ]
    }
   ],
   "source": [
    "a4 = np.linspace(0, 10, 10)       # 0에서부터 10까지 \"10등분\", 그래프를 그릴 때, x 값을 넣을 때\n",
    "print(a4)"
   ]
  },
  {
   "cell_type": "code",
   "execution_count": 53,
   "id": "6211b9c9",
   "metadata": {},
   "outputs": [
    {
     "name": "stdout",
     "output_type": "stream",
     "text": [
      "[0. 0. 0. 0. 0.]\n",
      "[1 1 1 1 1]\n"
     ]
    },
    {
     "data": {
      "text/plain": [
       "array([1., 1., 1., 1., 1.])"
      ]
     },
     "execution_count": 53,
     "metadata": {},
     "output_type": "execute_result"
    }
   ],
   "source": [
    "a5 = np.zeros(5)      # 0으로 채워짐, 박스 개수 설정할 때 사용, 그냥 숫자여도 .이 찍혀있다면 실수형이다,\n",
    "print(a5)\n",
    "\n",
    "a6 = np.ones(5, dtype = np.int64)       # 1로 채워짐\n",
    "print(a6)\n",
    "a6.astype(np.float64)"
   ]
  },
  {
   "cell_type": "code",
   "execution_count": 54,
   "id": "d1fb8510",
   "metadata": {},
   "outputs": [
    {
     "name": "stdout",
     "output_type": "stream",
     "text": [
      "[1.  2.  3.5 4.2]\n",
      "['1' '2' 'abc' 'def']\n"
     ]
    }
   ],
   "source": [
    "lista = [1, 2, 3.5, 4.2]\n",
    "a7 = np.array(lista)\n",
    "print(a7)\n",
    "\n",
    "listb = [1, 2, 'abc', 'def']\n",
    "a8 = np.array(listb)\n",
    "print(a8)\n",
    "#a8.astype(np.int64)"
   ]
  },
  {
   "cell_type": "code",
   "execution_count": 68,
   "id": "77be2b80",
   "metadata": {},
   "outputs": [
    {
     "name": "stdout",
     "output_type": "stream",
     "text": [
      "float64\n",
      "1\n",
      "(4,)\n",
      "4\n",
      "8\n",
      "<memory at 0x0000025071933640>\n"
     ]
    }
   ],
   "source": [
    "print(a7.dtype)    # astype = 메소드임\n",
    "print(a7.ndim)     # 몇 차원인지 알려줌\n",
    "print(a7.shape)    # 1차원의 length가 4, 2차원은 x, tuple로 돌려줌.\n",
    "print(a7.size)     # shape랑 비슷하지만 size는 배열 안의 모든 갯수를 의미한다.\n",
    "\n",
    "print(a7. itemsize)   # 데이터 타입의 byte 사이즈를 의미한다.\n",
    "print(a7.data)"
   ]
  },
  {
   "cell_type": "code",
   "execution_count": 77,
   "id": "ea2b1b1b",
   "metadata": {},
   "outputs": [
    {
     "name": "stdout",
     "output_type": "stream",
     "text": [
      "[10 15 20 25 30 35 40 45 50 55 60 65 70 75 80 85 90 95]\n",
      "10\n",
      "[10 15 20 25 30 35 40 45 50 55 60 65 70 75 80 85 90]\n",
      "[10 25 40 55 70 85]\n",
      "18\n"
     ]
    }
   ],
   "source": [
    "a10 = np.arange(10, 100, 5)\n",
    "print(a10)\n",
    "# 특정 인덱스\n",
    "print(a10[0])\n",
    "\n",
    "# 스타트, 스탑\n",
    "print(a10[:-1])\n",
    "\n",
    "# 스탙, 스탑, 스텝\n",
    "print(a10[:-1:3])\n"
   ]
  },
  {
   "cell_type": "code",
   "execution_count": 83,
   "id": "0f568801",
   "metadata": {},
   "outputs": [
    {
     "name": "stdout",
     "output_type": "stream",
     "text": [
      "[10 15 20 25 30 35 40 45 50 55 60 65 70 75 80 85 90 95]\n",
      "[15 25 45]\n",
      "[10, 15, 20, 25, 30, 35, 40, 45, 50, 55, 60, 65, 70, 75, 80, 85, 90, 95]\n"
     ]
    }
   ],
   "source": [
    "a10 = np.arange(10, 100, 5)\n",
    "print(a10)\n",
    "print(a10[[1, 3, 7]])      # 인덱스의 1번, 3번, 7번을 출력\n",
    "\n",
    "list10 = [x for x in range(10, 100, 5)]\n",
    "print(list10)\n",
    "# print(list10[[1, 3, 7]])"
   ]
  },
  {
   "cell_type": "code",
   "execution_count": 88,
   "id": "0ae964fd",
   "metadata": {},
   "outputs": [
    {
     "name": "stdout",
     "output_type": "stream",
     "text": [
      "[10 15 20 25 30 35 40 45 50 55 60 65 70 75 80 85 90 95]\n",
      "[15 25 35 45 55 65 75 85 95]\n",
      "[False  True False  True False  True False  True False  True False  True\n",
      " False  True False  True False  True]\n",
      "(18,)\n",
      "(18,)\n",
      "[15 25 35 45 55 65 75 85 95]\n"
     ]
    }
   ],
   "source": [
    "a10 = np.arange(10, 100, 5)\n",
    "print(a10)\n",
    "print(a10[a10 % 10 == 5])\n",
    "\n",
    "# bool list 내가 원하는 것만 뽑아오기\n",
    "x = (a10 % 10 == 5)\n",
    "print(x)\n",
    "print(x.shape)\n",
    "print(a10.shape)\n",
    "print(a10[x])"
   ]
  },
  {
   "cell_type": "code",
   "execution_count": 98,
   "id": "283f027e",
   "metadata": {},
   "outputs": [
    {
     "name": "stdout",
     "output_type": "stream",
     "text": [
      "[0, 1, 2, 3, 4]\n",
      "[10, 11, 12, 13, 14]\n",
      "[0, 1, 2, 3, 4, 10, 11, 12, 13, 14]\n"
     ]
    },
    {
     "ename": "TypeError",
     "evalue": "unsupported operand type(s) for -: 'list' and 'list'",
     "output_type": "error",
     "traceback": [
      "\u001b[1;31m---------------------------------------------------------------------------\u001b[0m",
      "\u001b[1;31mTypeError\u001b[0m                                 Traceback (most recent call last)",
      "Cell \u001b[1;32mIn[98], line 6\u001b[0m\n\u001b[0;32m      4\u001b[0m \u001b[38;5;28mprint\u001b[39m(listb)\n\u001b[0;32m      5\u001b[0m \u001b[38;5;28mprint\u001b[39m(lista \u001b[38;5;241m+\u001b[39m listb)         \u001b[38;5;66;03m# 담는 것을 위주로 하기 때문에 list끼리 합체\u001b[39;00m\n\u001b[1;32m----> 6\u001b[0m \u001b[38;5;28mprint\u001b[39m(\u001b[43mlista\u001b[49m\u001b[43m \u001b[49m\u001b[38;5;241;43m-\u001b[39;49m\u001b[43m \u001b[49m\u001b[43mlistb\u001b[49m)\n",
      "\u001b[1;31mTypeError\u001b[0m: unsupported operand type(s) for -: 'list' and 'list'"
     ]
    }
   ],
   "source": [
    "lista = [x for x in range(5)]\n",
    "listb = [x for x in range(10, 15)]\n",
    "print(lista)\n",
    "print(listb)\n",
    "print(lista + listb)         # 담는 것을 위주로 하기 때문에 list끼리 합체\n",
    "print(lista - listb)         # list에 -는 아몰랑"
   ]
  },
  {
   "cell_type": "code",
   "execution_count": 3,
   "id": "f88ea149",
   "metadata": {},
   "outputs": [
    {
     "name": "stdout",
     "output_type": "stream",
     "text": [
      "[0 1 2 3 4]\n",
      "[10 11 12 13 14]\n",
      "add: [10 12 14 16 18]\n",
      "[ 0  1  2  3  4 10 11 12 13 14]\n",
      "sub: [-10 -10 -10 -10 -10]\n",
      "mul: [ 0 11 24 39 56]\n",
      "div: [0.         0.09090909 0.16666667 0.23076923 0.28571429]\n"
     ]
    }
   ],
   "source": [
    "a1 = np.arange(5)\n",
    "a2 = np.arange(10, 15)\n",
    "print(a1)\n",
    "print(a2)\n",
    "print('add:', a1 + a2)       # 계산 위주이기 때문에 같은 index끼리 덧셈을 함, 사칙연산이 되려면 배열 안의 갯수가 서로 맞아야 가능하다\n",
    "print(np.concatenate((a1,a2)))      # list처럼 묶으려면 np.concatenate 안에 tuple로 묶어줘야 함.\n",
    "print('sub:', a1 - a2)\n",
    "print('mul:', a1 * a2)\n",
    "print('div:', a1 / a2)"
   ]
  }
 ],
 "metadata": {
  "kernelspec": {
   "display_name": "Python 3 (ipykernel)",
   "language": "python",
   "name": "python3"
  },
  "language_info": {
   "codemirror_mode": {
    "name": "ipython",
    "version": 3
   },
   "file_extension": ".py",
   "mimetype": "text/x-python",
   "name": "python",
   "nbconvert_exporter": "python",
   "pygments_lexer": "ipython3",
   "version": "3.10.9"
  }
 },
 "nbformat": 4,
 "nbformat_minor": 5
}
