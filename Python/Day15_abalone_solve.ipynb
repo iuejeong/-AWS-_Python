{
 "cells": [
  {
   "cell_type": "code",
   "execution_count": 1,
   "id": "4da2b430",
   "metadata": {},
   "outputs": [],
   "source": [
    "import requests\n",
    "import numpy as np"
   ]
  },
  {
   "cell_type": "code",
   "execution_count": 18,
   "id": "7fea2e0b",
   "metadata": {},
   "outputs": [],
   "source": [
    "def fetch_uci_data(url):\n",
    "    d = requests.get(url)\n",
    "    t = []\n",
    "    for line in d.text.split('\\n'):\n",
    "        if len(line) != 0:\n",
    "            t.append(line.split(','))\n",
    "        \n",
    "#     len_check = set()\n",
    "#     for e in t:\n",
    "#         if(len(e) == 1):\n",
    "#             print(e)\n",
    "#         len_check.add(len(e))\n",
    "#     print(len_check)\n",
    "        \n",
    "    return np.array(t)\n",
    "\n",
    "def get_corr(d):\n",
    "    male_filter = (d[:, 0] == 'M')\n",
    "    male_samples = d[male_filter]\n",
    "    male_length = male_samples[:, 1].astype(np.float64)\n",
    "    male_diameter = male_samples[:, 2].astype(np.float64)\n",
    "    return np.corrcoef(male_length, male_diameter)"
   ]
  },
  {
   "cell_type": "code",
   "execution_count": 25,
   "id": "00ad564e",
   "metadata": {},
   "outputs": [
    {
     "name": "stdout",
     "output_type": "stream",
     "text": [
      "0.9819071375281404\n"
     ]
    }
   ],
   "source": [
    "url = 'https://archive.ics.uci.edu/ml/machine-learning-databases/abalone/abalone.data'\n",
    "\n",
    "if __name__ == '__main__' :\n",
    "    np_data = fetch_uci_data(url)\n",
    "    corr_value = get_corr(np_data)\n",
    "    print(corr_value[0, 1])"
   ]
  }
 ],
 "metadata": {
  "kernelspec": {
   "display_name": "Python 3 (ipykernel)",
   "language": "python",
   "name": "python3"
  },
  "language_info": {
   "codemirror_mode": {
    "name": "ipython",
    "version": 3
   },
   "file_extension": ".py",
   "mimetype": "text/x-python",
   "name": "python",
   "nbconvert_exporter": "python",
   "pygments_lexer": "ipython3",
   "version": "3.10.9"
  }
 },
 "nbformat": 4,
 "nbformat_minor": 5
}
