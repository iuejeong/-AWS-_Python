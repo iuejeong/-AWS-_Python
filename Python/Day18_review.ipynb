{
 "cells": [
  {
   "cell_type": "code",
   "execution_count": 4,
   "id": "4851090e",
   "metadata": {},
   "outputs": [
    {
     "name": "stdout",
     "output_type": "stream",
     "text": [
      "[]\n",
      "['a']\n"
     ]
    }
   ],
   "source": [
    "# python list\n",
    "\n",
    "lista = []\n",
    "print(lista)\n",
    "\n",
    "lista.append('a')\n",
    "print(lista)"
   ]
  },
  {
   "cell_type": "code",
   "execution_count": 15,
   "id": "8ad10371",
   "metadata": {},
   "outputs": [
    {
     "name": "stdout",
     "output_type": "stream",
     "text": [
      "['a']\n",
      "[1 2 3 4]\n",
      "[0 1 2 3 4]\n",
      "[1 4]\n",
      "[0 2 4]\n",
      "[3 4]\n"
     ]
    }
   ],
   "source": [
    "# numpy ndarray\n",
    "import numpy as np\n",
    "\n",
    "array1 = np.array(lista)\n",
    "array2 = np.array([1, 2, 3, 4])\n",
    "array3 = np.array([x for x in range(5)])\n",
    "\n",
    "print(array1)\n",
    "print(array2)\n",
    "print(array3)\n",
    "print(array3[[1, 4]])\n",
    "print(array3[array3 % 2 == 0])\n",
    "print(array3[array3 > 2])"
   ]
  },
  {
   "cell_type": "code",
   "execution_count": 19,
   "id": "97b9ef5d",
   "metadata": {},
   "outputs": [
    {
     "name": "stdout",
     "output_type": "stream",
     "text": [
      "3\n",
      "4\n"
     ]
    }
   ],
   "source": [
    "# for, if\n",
    "\n",
    "# for i in array3:\n",
    "#     print(i)\n",
    "    \n",
    "for i in range(5):        # np.arange(5)\n",
    "    if i > 2:\n",
    "        print(i)"
   ]
  },
  {
   "cell_type": "code",
   "execution_count": 38,
   "id": "801e6aca",
   "metadata": {},
   "outputs": [
    {
     "name": "stdout",
     "output_type": "stream",
     "text": [
      "return_value: 200\n"
     ]
    }
   ],
   "source": [
    "# function\n",
    "\n",
    "def function_name(n):\n",
    "#     print(n * 10)\n",
    "    return n * 10\n",
    "\n",
    "return_value = function_name(20)\n",
    "print('return_value:', return_value)\n",
    "\n",
    "assert function_name(100) == 1000"
   ]
  },
  {
   "cell_type": "code",
   "execution_count": 134,
   "id": "becf900c",
   "metadata": {},
   "outputs": [
    {
     "name": "stdout",
     "output_type": "stream",
     "text": [
      "[25, 8, 56, 67, 86, 73, 15, 87, 81, 11]\n",
      "[98, 66, 87, 33, 1, 29, 97, 61, 98, 34]\n",
      "[56 67 86 73 87 81]\n",
      "6\n"
     ]
    }
   ],
   "source": [
    "# random\n",
    "import random\n",
    "\n",
    "random.seed()     # 시드 값 맞추기\n",
    "\n",
    "listb = []\n",
    "\n",
    "for i in range(10):\n",
    "    listb.append(random.randint(0, 100)) # 0에서부터 100까지 랜덤 숫자\n",
    "print(listb)\n",
    "\n",
    "listc = [random.randint(0, 100) for _ in range(10)]\n",
    "print(listc)\n",
    "\n",
    "# listb에서 50보다 큰 것.\n",
    "\n",
    "np_b = np.array(listb)\n",
    "\n",
    "print(np_b[np_b > 50])\n",
    "print(len(np_b[np_b > 50]))"
   ]
  }
 ],
 "metadata": {
  "kernelspec": {
   "display_name": "Python 3 (ipykernel)",
   "language": "python",
   "name": "python3"
  },
  "language_info": {
   "codemirror_mode": {
    "name": "ipython",
    "version": 3
   },
   "file_extension": ".py",
   "mimetype": "text/x-python",
   "name": "python",
   "nbconvert_exporter": "python",
   "pygments_lexer": "ipython3",
   "version": "3.10.9"
  }
 },
 "nbformat": 4,
 "nbformat_minor": 5
}
