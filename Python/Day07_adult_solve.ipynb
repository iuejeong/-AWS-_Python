{
 "cells": [
  {
   "cell_type": "code",
   "execution_count": 17,
   "id": "03dddf5f",
   "metadata": {},
   "outputs": [],
   "source": [
    "import math\n",
    "\n",
    "def mean(num_list):\n",
    "    return sum(num_list) / len(num_list)\n",
    "    \n",
    "def median(num_list):\n",
    "    num_list.sort()\n",
    "    if len(num_list) % 2 == 1:\n",
    "        i = (len(num_list)) // 2\n",
    "        return num_list[i]\n",
    "    else:\n",
    "        i = len(num_list) // 2 # //는 몫만 가져와서 정수만 출력\n",
    "        return (num_list[i] + num_list[i - 1]) / 2\n",
    "    \n",
    "def dev(num_list):   # 편차  ->   평균값 대비 얼마나 왔다갔다 하는 가\n",
    "    m = mean(num_list)\n",
    "    return [x - m for x in num_list]\n",
    "    \n",
    "def var (num_list):  # 분산   ->    편차의 대푯성이 있는 값 그래서 숫자가 하나임.\n",
    "    n = len(num_list)\n",
    "    d = dev(num_list)\n",
    "    return sum([x * x for x in d]) / (n - 1)    # 제곱하는 이유는 플러스 값도 있고, 마이너스 값도 있기 때문에\n",
    "\n",
    "def stdev(num_list):  # 표준편차\n",
    "    return math.sqrt(var(num_list)) # math.sqrt\n",
    "\n",
    "def covar(list_1, list_2):    # 공분산\n",
    "    n = len(list_1)\n",
    "    list_1_dev = dev(list_1)\n",
    "    list_2_dev = dev(list_2)\n",
    "    return sum(x * y for x, y in zip(list_1_dev, list_2_dev)) / (n - 1)\n",
    "    \n",
    "\n",
    "def corel(list_1, list_2):    # 상관도 (-1 ~ 1)\n",
    "    return covar(list_1, list_2) / (stdev(list_1) * stdev(list_2))"
   ]
  },
  {
   "cell_type": "code",
   "execution_count": 2,
   "id": "09003c26",
   "metadata": {},
   "outputs": [],
   "source": [
    "import requests\n",
    "\n",
    "x = requests.get('https://archive.ics.uci.edu/ml/machine-learning-databases/adult/adult.data')"
   ]
  },
  {
   "cell_type": "code",
   "execution_count": 7,
   "id": "ec53348e",
   "metadata": {},
   "outputs": [],
   "source": [
    "pass1 = x.text.split('\\n')\n",
    "# print(pass1[0].split(',')[0])\n",
    "# print(pass1[0].split(',')[10])\n",
    "# print(pass1[0].split(',')[12])\n",
    "age_list = []\n",
    "cap_gain_list = []\n",
    "hours_per_week_list = []\n",
    "for e in pass1:\n",
    "    try:\n",
    "        t = e.split(',')\n",
    "        if len(t) < 5:\n",
    "            continue\n",
    "        age_list.append(t[0])\n",
    "        cap_gain_list.append(t[10])\n",
    "        hours_per_week_list.append(t[12])\n",
    "    except:\n",
    "        print(e, type(e))"
   ]
  },
  {
   "cell_type": "code",
   "execution_count": 8,
   "id": "cbc89ad2",
   "metadata": {},
   "outputs": [
    {
     "name": "stdout",
     "output_type": "stream",
     "text": [
      "32561\n",
      "32561\n",
      "32561\n"
     ]
    }
   ],
   "source": [
    "print(len(age_list))\n",
    "print(len(cap_gain_list))\n",
    "print(len(hours_per_week_list))"
   ]
  },
  {
   "cell_type": "code",
   "execution_count": 14,
   "id": "03af7353",
   "metadata": {},
   "outputs": [
    {
     "name": "stdout",
     "output_type": "stream",
     "text": [
      "['39', '50', '38', '53', '28', '37', '49', '52', '31', '42']\n",
      "[' 2174', ' 0', ' 0', ' 0', ' 0', ' 0', ' 0', ' 0', ' 14084', ' 5178']\n",
      "[' 40', ' 13', ' 40', ' 40', ' 40', ' 40', ' 16', ' 45', ' 50', ' 40']\n"
     ]
    }
   ],
   "source": [
    "print(age_list[:10])\n",
    "print(cap_gain_list[:10])\n",
    "print(hours_per_week_list[:10])\n",
    "age_list = [int(i) for i in age_list]\n",
    "cap_gain_list = [int(i) for i in cap_gain_list]\n",
    "hours_per_week_list = [int(i) for i in hours_per_week_list]"
   ]
  },
  {
   "cell_type": "code",
   "execution_count": 21,
   "id": "fee03006",
   "metadata": {},
   "outputs": [
    {
     "name": "stdout",
     "output_type": "stream",
     "text": [
      "age vs. cap gain: 0.077674498166006\n",
      "hours per week vs. cap gain: 0.07840861539012314\n",
      "age vs. hours per week: 0.06875570750956339\n"
     ]
    }
   ],
   "source": [
    "print('age vs. cap gain:', corel(age_list, cap_gain_list))\n",
    "print('hours per week vs. cap gain:', corel(hours_per_week_list, cap_gain_list))\n",
    "print('age vs. hours per week:', corel(age_list, hours_per_week_list))"
   ]
  }
 ],
 "metadata": {
  "kernelspec": {
   "display_name": "Python 3 (ipykernel)",
   "language": "python",
   "name": "python3"
  },
  "language_info": {
   "codemirror_mode": {
    "name": "ipython",
    "version": 3
   },
   "file_extension": ".py",
   "mimetype": "text/x-python",
   "name": "python",
   "nbconvert_exporter": "python",
   "pygments_lexer": "ipython3",
   "version": "3.10.9"
  }
 },
 "nbformat": 4,
 "nbformat_minor": 5
}
