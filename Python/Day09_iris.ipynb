{
 "cells": [
  {
   "cell_type": "code",
   "execution_count": 41,
   "id": "a8741ac0",
   "metadata": {},
   "outputs": [],
   "source": [
    "import requests\n",
    "import numpy as np\n",
    "\n",
    "x= requests.get('https://archive.ics.uci.edu/ml/machine-learning-databases/iris/iris.data')"
   ]
  },
  {
   "cell_type": "code",
   "execution_count": 42,
   "id": "1e11d7ca",
   "metadata": {
    "scrolled": true
   },
   "outputs": [
    {
     "name": "stdout",
     "output_type": "stream",
     "text": [
      "[[5.1, 3.5, 1.4, 0.2, 'Iris-setosa'], [4.9, 3.0, 1.4, 0.2, 'Iris-setosa'], [4.7, 3.2, 1.3, 0.2, 'Iris-setosa']]\n"
     ]
    }
   ],
   "source": [
    "raw_data = []\n",
    "for line in x.text.split('\\n'):\n",
    "    raw_data.append(line.split(','))\n",
    "    \n",
    "for sample in raw_data:\n",
    "    for i, value in enumerate(sample[:4]):\n",
    "        if len(sample) < 1:         # 맨 마지막 부분에 빈 줄이 있는 것이 있으면 계속 진행\n",
    "            continue\n",
    "        try:\n",
    "            sample[i] = float(value)\n",
    "        except:\n",
    "            sample[i] = 0.0\n",
    "            \n",
    "print(raw_data[:3])"
   ]
  },
  {
   "cell_type": "code",
   "execution_count": 43,
   "id": "cecae25b",
   "metadata": {},
   "outputs": [],
   "source": [
    "for sample in raw_data:\n",
    "    if len(sample) < 2:\n",
    "        continue\n",
    "    if 'setosa' in sample[-1]:\n",
    "        sample[-1] = 0.0\n",
    "    elif 'versicolor' in sample[-1]:\n",
    "        sample[-1] = 1.0\n",
    "    elif 'virginica' in sample[-1]:\n",
    "        sample[-1] = 2.0\n",
    "\n",
    "\n",
    "# for e in raw_data:\n",
    "#     if e[:-1] == 'Iris-setosa':\n",
    "#         e[:-1] = 0\n",
    "# print(raw_data)"
   ]
  },
  {
   "cell_type": "code",
   "execution_count": 52,
   "id": "f0fa1d4b",
   "metadata": {},
   "outputs": [
    {
     "data": {
      "text/plain": [
       "array([[5.1, 3.5, 1.4, 0.2, 0. ],\n",
       "       [4.9, 3. , 1.4, 0.2, 0. ],\n",
       "       [4.7, 3.2, 1.3, 0.2, 0. ]])"
      ]
     },
     "execution_count": 52,
     "metadata": {},
     "output_type": "execute_result"
    }
   ],
   "source": [
    "np_data = np.array(raw_data)\n",
    "np_data.shape\n",
    "np_data"
   ]
  },
  {
   "cell_type": "markdown",
   "id": "c4354607",
   "metadata": {},
   "source": [
    "### 기본 통계값\n",
    "* 전체(150 샘플) 평균, 표준편차 - sepal length, sepal width, petal length, petal width)\n",
    "* 품종별(50개씩) 평균, 표준편차\n",
    "* Min Max Mean SD\n",
    "* sepal length:\n",
    "* 평균 np.mean()\n",
    "* 표준편차 np.std()"
   ]
  },
  {
   "cell_type": "code",
   "execution_count": 99,
   "id": "004e926a",
   "metadata": {},
   "outputs": [
    {
     "name": "stdout",
     "output_type": "stream",
     "text": [
      "[[ 1.         -0.10936925  0.87175416  0.81795363  0.78256123]\n",
      " [-0.10936925  1.         -0.4205161  -0.35654409 -0.4194462 ]\n",
      " [ 0.87175416 -0.4205161   1.          0.9627571   0.94904254]\n",
      " [ 0.81795363 -0.35654409  0.9627571   1.          0.95646382]\n",
      " [ 0.78256123 -0.4194462   0.94904254  0.95646382  1.        ]]\n"
     ]
    }
   ],
   "source": [
    "# filter1 = np_data[:, -1] == 0\n",
    "\n",
    "print(np.mean(np_data, axis = 0))\n",
    "print(np.std(np_data, axis = 0))\n",
    "# print(np.corrcoef(np_data.T))            # 상관도"
   ]
  },
  {
   "cell_type": "code",
   "execution_count": 107,
   "id": "f6a73d49",
   "metadata": {},
   "outputs": [
    {
     "name": "stdout",
     "output_type": "stream",
     "text": [
      "[5.006 3.418 1.464 0.244 0.   ]\n",
      "[0.34894699 0.37719491 0.17176728 0.10613199 0.        ]\n",
      "[5.936 2.77  4.26  1.326 1.   ]\n",
      "[0.51098337 0.31064449 0.46518813 0.19576517 0.        ]\n",
      "[6.588 2.974 5.552 2.026 2.   ]\n",
      "[0.62948868 0.31925538 0.54634787 0.27188968 0.        ]\n"
     ]
    }
   ],
   "source": [
    "filter_setosa = np_data[:, -1] == 0.0\n",
    "filter_versicolor = np_data[:, -1] == 1.0\n",
    "filter_virginica = np_data[:, -1] == 2.0\n",
    "\n",
    "print(np.mean(np_data[filter_setosa], axis = 0))\n",
    "print(np.std(np_data[filter_setosa], axis = 0))\n",
    "\n",
    "print(np.mean(np_data[filter_versicolor], axis = 0))\n",
    "print(np.std(np_data[filter_versicolor], axis = 0))\n",
    "\n",
    "print(np.mean(np_data[filter_virginica], axis = 0))\n",
    "print(np.std(np_data[filter_virginica], axis = 0))"
   ]
  }
 ],
 "metadata": {
  "kernelspec": {
   "display_name": "Python 3 (ipykernel)",
   "language": "python",
   "name": "python3"
  },
  "language_info": {
   "codemirror_mode": {
    "name": "ipython",
    "version": 3
   },
   "file_extension": ".py",
   "mimetype": "text/x-python",
   "name": "python",
   "nbconvert_exporter": "python",
   "pygments_lexer": "ipython3",
   "version": "3.10.9"
  }
 },
 "nbformat": 4,
 "nbformat_minor": 5
}
