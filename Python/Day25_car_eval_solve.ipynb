{
 "cells": [
  {
   "cell_type": "code",
   "execution_count": 3,
   "id": "0970e327",
   "metadata": {},
   "outputs": [
    {
     "data": {
      "text/html": [
       "<div>\n",
       "<style scoped>\n",
       "    .dataframe tbody tr th:only-of-type {\n",
       "        vertical-align: middle;\n",
       "    }\n",
       "\n",
       "    .dataframe tbody tr th {\n",
       "        vertical-align: top;\n",
       "    }\n",
       "\n",
       "    .dataframe thead th {\n",
       "        text-align: right;\n",
       "    }\n",
       "</style>\n",
       "<table border=\"1\" class=\"dataframe\">\n",
       "  <thead>\n",
       "    <tr style=\"text-align: right;\">\n",
       "      <th></th>\n",
       "      <th>구매가</th>\n",
       "      <th>유지비용</th>\n",
       "      <th>문갯수</th>\n",
       "      <th>탑승인원</th>\n",
       "      <th>수납공간</th>\n",
       "      <th>안전도</th>\n",
       "      <th>만족도</th>\n",
       "    </tr>\n",
       "  </thead>\n",
       "  <tbody>\n",
       "    <tr>\n",
       "      <th>0</th>\n",
       "      <td>vhigh</td>\n",
       "      <td>vhigh</td>\n",
       "      <td>2</td>\n",
       "      <td>2</td>\n",
       "      <td>small</td>\n",
       "      <td>low</td>\n",
       "      <td>unacc</td>\n",
       "    </tr>\n",
       "    <tr>\n",
       "      <th>1</th>\n",
       "      <td>vhigh</td>\n",
       "      <td>vhigh</td>\n",
       "      <td>2</td>\n",
       "      <td>2</td>\n",
       "      <td>small</td>\n",
       "      <td>med</td>\n",
       "      <td>unacc</td>\n",
       "    </tr>\n",
       "    <tr>\n",
       "      <th>2</th>\n",
       "      <td>vhigh</td>\n",
       "      <td>vhigh</td>\n",
       "      <td>2</td>\n",
       "      <td>2</td>\n",
       "      <td>small</td>\n",
       "      <td>high</td>\n",
       "      <td>unacc</td>\n",
       "    </tr>\n",
       "    <tr>\n",
       "      <th>3</th>\n",
       "      <td>vhigh</td>\n",
       "      <td>vhigh</td>\n",
       "      <td>2</td>\n",
       "      <td>2</td>\n",
       "      <td>med</td>\n",
       "      <td>low</td>\n",
       "      <td>unacc</td>\n",
       "    </tr>\n",
       "    <tr>\n",
       "      <th>4</th>\n",
       "      <td>vhigh</td>\n",
       "      <td>vhigh</td>\n",
       "      <td>2</td>\n",
       "      <td>2</td>\n",
       "      <td>med</td>\n",
       "      <td>med</td>\n",
       "      <td>unacc</td>\n",
       "    </tr>\n",
       "  </tbody>\n",
       "</table>\n",
       "</div>"
      ],
      "text/plain": [
       "     구매가   유지비용 문갯수 탑승인원   수납공간   안전도    만족도\n",
       "0  vhigh  vhigh   2    2  small   low  unacc\n",
       "1  vhigh  vhigh   2    2  small   med  unacc\n",
       "2  vhigh  vhigh   2    2  small  high  unacc\n",
       "3  vhigh  vhigh   2    2    med   low  unacc\n",
       "4  vhigh  vhigh   2    2    med   med  unacc"
      ]
     },
     "execution_count": 3,
     "metadata": {},
     "output_type": "execute_result"
    }
   ],
   "source": [
    "import numpy as np\n",
    "import pandas as pd\n",
    "import matplotlib.pyplot as plt\n",
    "import matplotlib\n",
    "\n",
    "current_font_list = matplotlib.rcParams['font.family']\n",
    "\n",
    "font_path = \"C:\\Windows\\Fonts\\malgunbd.ttf\"\n",
    "kfont = matplotlib.font_manager.FontProperties(fname = font_path).get_name()\n",
    "matplotlib.rcParams['font.family'] = [kfont] + current_font_list\n",
    "\n",
    "url = 'https://archive.ics.uci.edu/ml/machine-learning-databases/car/car.data'\n",
    "pd_data = pd.read_csv(url, header = None)\n",
    "pd_data.columns = ['구매가', '유지비용', '문갯수', '탑승인원', '수납공간', '안전도', '만족도']\n",
    "pd_data.head()"
   ]
  },
  {
   "cell_type": "code",
   "execution_count": 52,
   "id": "8f8ff130",
   "metadata": {},
   "outputs": [
    {
     "name": "stdout",
     "output_type": "stream",
     "text": [
      "      구매가    만족도  안전도\n",
      "4     low  unacc  258\n",
      "2     low    acc   89\n",
      "3     low   good   46\n",
      "5     low  vgood   39\n",
      "8     med  unacc  268\n",
      "6     med    acc  115\n",
      "7     med   good   23\n",
      "9     med  vgood   26\n",
      "1    high  unacc  324\n",
      "0    high    acc  108\n",
      "11  vhigh  unacc  360\n",
      "10  vhigh    acc   72\n"
     ]
    },
    {
     "data": {
      "text/plain": [
       "<matplotlib.collections.PathCollection at 0x2cb8024c310>"
      ]
     },
     "execution_count": 52,
     "metadata": {},
     "output_type": "execute_result"
    },
    {
     "data": {
      "image/png": "[encoded data removed]",
      "text/plain": [
       "<Figure size 1280x480 with 3 Axes>"
      ]
     },
     "metadata": {},
     "output_type": "display_data"
    }
   ],
   "source": [
    "fig = plt.figure(figsize = (6.4 * 2, 4.8))\n",
    "left = fig.add_subplot(1, 2, 1)\n",
    "# left.scatter(pd_data['구매가'], pd_data['만족도'], s = 200)\n",
    "\n",
    "right_top = fig.add_subplot(2, 2, 2)\n",
    "filter1 = pd_data['구매가'] == 'vhigh'\n",
    "s1 = pd_data.loc[filter1, '만족도'].value_counts()\n",
    "s2 = pd.Series(list(s1.values) + [0, 0], index = ['unacc', 'acc', 'good', 'vgood'])\n",
    "right_top.bar(s2.index, s2)\n",
    "# print(s2)\n",
    "# print(s1.values)\n",
    "\n",
    "right_bot = fig.add_subplot(2, 2, 4)\n",
    "filter1 = pd_data['구매가'] == 'low'\n",
    "s1 = pd_data.loc[filter1, '만족도'].value_counts()\n",
    "right_bot.bar(s1.index, s1)\n",
    "\n",
    "from pandas.api.types import CategoricalDtype\n",
    "\n",
    "price_category = CategoricalDtype(categories=[\"low\", \"med\", \"high\", \"vhigh\"], ordered=True)\n",
    "eval_category = CategoricalDtype(categories=[\"unacc\", \"acc\", \"good\", \"vgood\"], ordered=True)\n",
    "g1 = pd_data.groupby(['구매가', '만족도'])\n",
    "s3 = g1['안전도'].count()\n",
    "s3 = s3.reset_index()\n",
    "s3['구매가'] = s3['구매가'].astype(price_category)\n",
    "s3['만족도'] = s3['만족도'].astype(eval_category)\n",
    "s3.sort_values(['구매가', '만족도'], inplace = True)\n",
    "print(s3)\n",
    "left.scatter(s3['구매가'], s3['만족도'], s = s3['안전도'])"
   ]
  }
 ],
 "metadata": {
  "kernelspec": {
   "display_name": "Python 3 (ipykernel)",
   "language": "python",
   "name": "python3"
  },
  "language_info": {
   "codemirror_mode": {
    "name": "ipython",
    "version": 3
   },
   "file_extension": ".py",
   "mimetype": "text/x-python",
   "name": "python",
   "nbconvert_exporter": "python",
   "pygments_lexer": "ipython3",
   "version": "3.10.9"
  }
 },
 "nbformat": 4,
 "nbformat_minor": 5
}
