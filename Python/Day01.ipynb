{
 "cells": [
  {
   "cell_type": "code",
   "execution_count": 2,
   "id": "ac69a969",
   "metadata": {},
   "outputs": [
    {
     "name": "stdout",
     "output_type": "stream",
     "text": [
      "3.10.9 (tags/v3.10.9:1dd9be6, Dec  6 2022, 20:01:21) [MSC v.1934 64 bit (AMD64)]\n"
     ]
    }
   ],
   "source": [
    "import sys\n",
    "print(sys.version)"
   ]
  },
  {
   "cell_type": "code",
   "execution_count": 10,
   "id": "8cfa65ad",
   "metadata": {
    "scrolled": true
   },
   "outputs": [
    {
     "name": "stdout",
     "output_type": "stream",
     "text": [
      "<class 'int'>\n",
      "10\n",
      "<class 'float'>\n",
      "<class 'str'>\n",
      "<class 'bool'>\n"
     ]
    }
   ],
   "source": [
    "a = 10\n",
    "print(type(a))\n",
    "print(a)\n",
    "\n",
    "b = 10.5\n",
    "print(type(b))\n",
    "\n",
    "c = 'abcd'\n",
    "print(type(c))\n",
    "\n",
    "d = True\n",
    "print(type(d))\n",
    "\n",
    "del c"
   ]
  },
  {
   "cell_type": "code",
   "execution_count": 1,
   "id": "7b57e27c",
   "metadata": {
    "scrolled": true
   },
   "outputs": [
    {
     "ename": "NameError",
     "evalue": "name 'c' is not defined",
     "output_type": "error",
     "traceback": [
      "\u001b[1;31m---------------------------------------------------------------------------\u001b[0m",
      "\u001b[1;31mNameError\u001b[0m                                 Traceback (most recent call last)",
      "Cell \u001b[1;32mIn[1], line 1\u001b[0m\n\u001b[1;32m----> 1\u001b[0m \u001b[38;5;28mprint\u001b[39m(\u001b[43mc\u001b[49m)\n",
      "\u001b[1;31mNameError\u001b[0m: name 'c' is not defined"
     ]
    }
   ],
   "source": [
    "print(c)"
   ]
  },
  {
   "cell_type": "code",
   "execution_count": 21,
   "id": "d782b8cf",
   "metadata": {},
   "outputs": [
    {
     "name": "stdout",
     "output_type": "stream",
     "text": [
      "[1, 2, 3, 4]\n",
      "<class 'list'>\n",
      "[1, 10.5, 'abc', False, [1, 2, 3, 4]]\n",
      "(1, 2, 3, 4)\n",
      "<class 'tuple'>\n",
      "{1, 2, 3, 4}\n",
      "[1, 2, 3, 4, 4, 5, 5, 5]\n",
      "{1, 2, 3, 4, 5}\n",
      "{'a': 1, 'b': 2, 'c': 3}\n",
      "<class 'dict'>\n"
     ]
    }
   ],
   "source": [
    "# list, tuple, set, dictionary\n",
    "list1 = [1,2,3,4]\n",
    "print(list1)\n",
    "print(type(list1))\n",
    "\n",
    "list2 = [1, 10.5, 'abc', False, [1,2,3,4]]\n",
    "print(list2)\n",
    "\n",
    "tuple1 = (1,2,3,4)\n",
    "print(tuple1)\n",
    "print(type(tuple1))\n",
    "\n",
    "set1 = {1,2,3,4}\n",
    "print(set1)\n",
    "\n",
    "list2 = [1,2,3,4,4,5,5,5]\n",
    "set2 = {1,2,3,4,4,5,5,5,}\n",
    "print(list2)\n",
    "print(set2)\n",
    "\n",
    "d1 = {'a':1, 'b':2, 'c':3}\n",
    "print(d1)\n",
    "print(type(d1))"
   ]
  },
  {
   "cell_type": "code",
   "execution_count": 2,
   "id": "6375e1c7",
   "metadata": {},
   "outputs": [
    {
     "name": "stdout",
     "output_type": "stream",
     "text": [
      "greater than3\n"
     ]
    }
   ],
   "source": [
    "a = 5\n",
    "if a > 10 :\n",
    "    print('greater than 10')\n",
    "elif a > 3 :\n",
    "    print('greater than3')\n",
    "elif a == 5:\n",
    "    print('is five')\n",
    "else :\n",
    "    print('not greater than 10')\n"
   ]
  },
  {
   "cell_type": "code",
   "execution_count": 31,
   "id": "de5b5f51",
   "metadata": {},
   "outputs": [
    {
     "name": "stdout",
     "output_type": "stream",
     "text": [
      "message\n",
      "message\n",
      "message\n",
      "message\n"
     ]
    }
   ],
   "source": [
    "for _ in range(4) :\n",
    "    print('message')"
   ]
  },
  {
   "cell_type": "code",
   "execution_count": 37,
   "id": "2d42785a",
   "metadata": {
    "scrolled": true
   },
   "outputs": [
    {
     "name": "stdout",
     "output_type": "stream",
     "text": [
      "range(0, 50, 3)\n",
      "<class 'range'>\n",
      "0\n",
      "3\n",
      "6\n",
      "9\n",
      "12\n",
      "15\n",
      "18\n",
      "21\n",
      "24\n",
      "27\n",
      "30\n",
      "33\n",
      "36\n",
      "39\n",
      "42\n",
      "45\n",
      "48\n"
     ]
    }
   ],
   "source": [
    "a = range(0, 50, 3) # start, stop, step\n",
    "print(a)\n",
    "print(type(a))\n",
    "\n",
    "for i in a:\n",
    "    print(i)\n",
    "\n",
    "#for(int i = 0; i < 50; i += 3)"
   ]
  },
  {
   "cell_type": "code",
   "execution_count": 52,
   "id": "ea166786",
   "metadata": {},
   "outputs": [
    {
     "name": "stdout",
     "output_type": "stream",
     "text": [
      "[100, 105, 110, 115, 120, 125, 130, 135, 140, 145, 150, 155, 160, 165, 170, 175, 180, 185, 190, 195, 200, 205, 210, 215, 220, 225, 230, 235, 240, 245, 250, 255, 260, 265, 270, 275, 280, 285, 290, 295, 300, 305, 310, 315, 320, 325, 330, 335, 340, 345, 350, 355, 360, 365, 370, 375, 380, 385, 390, 395, 400, 405, 410, 415, 420, 425, 430, 435, 440, 445, 450, 455, 460, 465, 470, 475, 480, 485, 490, 495]\n"
     ]
    }
   ],
   "source": [
    "# 100에서 500미만 5의 배수 출력.\n",
    "\n",
    "list1 = []\n",
    "for i in range(100, 500, 5):\n",
    "    list1.append(i)\n",
    "    \n",
    "print(list1)"
   ]
  },
  {
   "cell_type": "code",
   "execution_count": 86,
   "id": "6e18890c",
   "metadata": {},
   "outputs": [
    {
     "name": "stdout",
     "output_type": "stream",
     "text": [
      "[0, 5, 10, 15, 20, 25, 30, 35, 40, 45, 50, 55, 60, 65, 70, 75, 80, 85, 90, 95]\n"
     ]
    }
   ],
   "source": [
    "list2 = [ x for x in range(0, 100, 5)]\n",
    "print(list2)"
   ]
  },
  {
   "cell_type": "code",
   "execution_count": 94,
   "id": "53856071",
   "metadata": {},
   "outputs": [
    {
     "name": "stdout",
     "output_type": "stream",
     "text": [
      "[0, 3, 6, 9, 12, 15, 18, 21, 24, 27, 30, 33, 36, 39, 42, 45, 48, 51, 54, 57, 60, 63, 66, 69, 72, 75, 78, 81, 84, 87, 90, 93, 96, 99, 0, 5, 10, 15, 20, 25, 30, 35, 40, 45, 50, 55, 60, 65, 70, 75, 80, 85, 90, 95]\n"
     ]
    }
   ],
   "source": [
    "list1 = [ x for x in range(0, 100, 3)]\n",
    "list2 = [ x for x in range(0, 100, 5)]\n",
    "print(list1  list2)"
   ]
  },
  {
   "cell_type": "code",
   "execution_count": 8,
   "id": "2819ae7c",
   "metadata": {},
   "outputs": [
    {
     "name": "stdout",
     "output_type": "stream",
     "text": [
      "[0, 3, 6, 9, 12, 15, 18, 21, 24, 27, 30, 33, 36, 39, 42, 45, 48, 51, 54, 57, 60, 63, 66, 69, 72, 75, 78, 81, 84, 87, 90, 93, 96, 99]\n",
      "[0, 5, 10, 15, 20, 25, 30, 35, 40, 45, 50, 55, 60, 65, 70, 75, 80, 85, 90, 95]\n",
      "[3, 6, 9, 12, 18, 21, 24, 27, 33, 36, 39, 42, 48, 51, 54, 57, 63, 66, 69, 72, 78, 81, 84, 87, 93, 96, 99]\n",
      "2318\n"
     ]
    }
   ],
   "source": [
    "list_3 = []\n",
    "list_5 = []\n",
    "\n",
    "for i in range(0, 100, 3):\n",
    "    list_3.append(i)\n",
    "    \n",
    "for i in range(0, 100, 5):\n",
    "    list_5.append(i)\n",
    "print(list_3)\n",
    "print(list_5)\n",
    "\n",
    "list_3_a = []\n",
    "for i in list_3:\n",
    "    if i % 5 > 0:\n",
    "        list_3_a.append(i)\n",
    "print(list_3_a)\n",
    "\n",
    "s = 0\n",
    "for i in list_3_a:\n",
    "    s = s + i\n",
    "    \n",
    "for i in list_5:\n",
    "    s = s + i\n",
    "print(s)"
   ]
  },
  {
   "cell_type": "code",
   "execution_count": 115,
   "id": "769d21df",
   "metadata": {
    "scrolled": true
   },
   "outputs": [
    {
     "name": "stdout",
     "output_type": "stream",
     "text": [
      "[0, 3, 6, 9, 12, 15, 18, 21, 24, 27, 30, 33, 36, 39, 42, 45, 48, 51, 54, 57, 60, 63, 66, 69, 72, 75, 78, 81, 84, 87, 90, 93, 96, 99]\n",
      "[0, 5, 10, 15, 20, 25, 30, 35, 40, 45, 50, 55, 60, 65, 70, 75, 80, 85, 90, 95]\n",
      "[0, 3, 6, 9, 12, 15, 18, 21, 24, 27, 30, 33, 36, 39, 42, 45, 48, 51, 54, 57, 60, 63, 66, 69, 72, 75, 78, 81, 84, 87, 90, 93, 96, 99, 0, 5, 10, 15, 20, 25, 30, 35, 40, 45, 50, 55, 60, 65, 70, 75, 80, 85, 90, 95]\n",
      "[0, 3, 6, 9, 12, 15, 18, 21, 24, 27, 30, 33, 36, 39, 42, 45, 48, 51, 54, 57, 60, 63, 66, 69, 72, 75, 78, 81, 84, 87, 90, 93, 96, 99, 0, 5, 10, 15, 20, 25, 30, 35, 40, 45, 50, 55, 60, 65, 70, 75, 80, 85, 90, 95]\n",
      "{0, 3, 5, 6, 9, 10, 12, 15, 18, 20, 21, 24, 25, 27, 30, 33, 35, 36, 39, 40, 42, 45, 48, 50, 51, 54, 55, 57, 60, 63, 65, 66, 69, 70, 72, 75, 78, 80, 81, 84, 85, 87, 90, 93, 95, 96, 99}\n",
      "2318\n",
      "2318\n"
     ]
    }
   ],
   "source": [
    "list_3 = [i for i in range(0, 100, 3)]\n",
    "list_5 = [i for i in range(0, 100, 5)]\n",
    "print(list_3)\n",
    "print(list_5)\n",
    "print(list_3 + list_5)\n",
    "\n",
    "list_all = []\n",
    "for i in list_3:\n",
    "    list_all.append(i)\n",
    "for i in list_5:\n",
    "    list_all.append(i)\n",
    "print(list_all)\n",
    "\n",
    "set1 = set(list_all)\n",
    "print(set1)\n",
    "\n",
    "s = 0;\n",
    "for i in set1:\n",
    "    s = s + i\n",
    "print(s)  \n",
    "print(sum(set1))\n"
   ]
  },
  {
   "cell_type": "code",
   "execution_count": 119,
   "id": "c50d2e13",
   "metadata": {},
   "outputs": [
    {
     "name": "stdout",
     "output_type": "stream",
     "text": [
      "2318\n"
     ]
    }
   ],
   "source": [
    "list_a = []\n",
    "\n",
    "for i in range(0, 100):\n",
    "    if i % 3 == 0 or i % 5 == 0:\n",
    "        list_a.append(i)\n",
    "print(sum(list_a))"
   ]
  },
  {
   "cell_type": "code",
   "execution_count": 121,
   "id": "181488b8",
   "metadata": {},
   "outputs": [
    {
     "name": "stdout",
     "output_type": "stream",
     "text": [
      "2318\n"
     ]
    }
   ],
   "source": [
    "list_a = [i for i in range(0, 100) if i% 3 == 0 or i % 5 == 0]\n",
    "print(sum(list_a))"
   ]
  }
 ],
 "metadata": {
  "kernelspec": {
   "display_name": "Python 3 (ipykernel)",
   "language": "python",
   "name": "python3"
  },
  "language_info": {
   "codemirror_mode": {
    "name": "ipython",
    "version": 3
   },
   "file_extension": ".py",
   "mimetype": "text/x-python",
   "name": "python",
   "nbconvert_exporter": "python",
   "pygments_lexer": "ipython3",
   "version": "3.10.9"
  }
 },
 "nbformat": 4,
 "nbformat_minor": 5
}
