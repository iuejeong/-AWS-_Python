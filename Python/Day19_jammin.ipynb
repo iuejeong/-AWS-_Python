{
 "cells": [
  {
   "cell_type": "markdown",
   "id": "ae3c19c5",
   "metadata": {},
   "source": [
    "## 전국 어린이 보호구역 표준 데이터\n",
    "\n",
    "- 시설 종류별 CCTV 설치 여부 count / 대수\n",
    "- 광역시도별, 시설종류별 count. 2중으로 groupby\n",
    "- 관할 경찰서별 CCTV 대수\n",
    "- CCTV 평균 설치대수\n",
    "- 도로폭 / CCTV 설치 대수 상관도"
   ]
  },
  {
   "cell_type": "code",
   "execution_count": 3,
   "id": "5496d8a8",
   "metadata": {},
   "outputs": [
    {
     "name": "stdout",
     "output_type": "stream",
     "text": [
      "(0, '시설종류')\n",
      "(1, '대상시설명')\n",
      "(2, '소재지도로명주소')\n",
      "(3, '소재지지번주소')\n",
      "(4, '위도')\n",
      "(5, '경도')\n",
      "(6, '관리기관명')\n",
      "(7, '관할경찰서명')\n",
      "(8, 'CCTV설치여부')\n",
      "(9, 'CCTV설치대수')\n",
      "(10, '보호구역도로폭')\n",
      "(11, '데이터기준일자')\n",
      "(12, '제공기관코드')\n",
      "(13, '제공기관명')\n"
     ]
    }
   ],
   "source": [
    "import numpy as np\n",
    "import pandas as pd\n",
    "\n",
    "pd_data = pd.read_csv('전국어린이보호구역표준데이터.csv', encoding = 'cp949')\n",
    "for i in enumerate(pd_data.columns):\n",
    "    print(i)"
   ]
  },
  {
   "cell_type": "code",
   "execution_count": 29,
   "id": "70e2fb6c",
   "metadata": {},
   "outputs": [
    {
     "name": "stdout",
     "output_type": "stream",
     "text": [
      "['유치원' '초등학교' '어린이집' '특수학교' '학원' '외국인학교' '대안학교' '국제학교' '외국인교육기관'\n",
      " '초등학교+어린이집']\n",
      "             Y    N\n",
      "유치원        NaN  NaN\n",
      "초등학교       NaN  NaN\n",
      "어린이집       NaN  NaN\n",
      "특수학교       NaN  NaN\n",
      "학원         NaN  NaN\n",
      "외국인학교      NaN  NaN\n",
      "대안학교       NaN  NaN\n",
      "국제학교       NaN  NaN\n",
      "외국인교육기관    NaN  NaN\n",
      "초등학교+어린이집  NaN  NaN\n"
     ]
    }
   ],
   "source": [
    "x = pd_data['시설종류'].unique()\n",
    "y = pd_data['CCTV설치여부'].value_counts().sum\n",
    "print(x)\n",
    "sub_data = pd.DataFrame(index = x, columns = ['Y', 'N'])\n",
    "\n",
    "print(sub_data)"
   ]
  },
  {
   "cell_type": "code",
   "execution_count": 33,
   "id": "d1d683ef",
   "metadata": {},
   "outputs": [
    {
     "data": {
      "text/plain": [
       "서울특별시 노원구중계동366-4         16\n",
       "경기도 수원시 권선구 권선동 1322      11\n",
       "경기도 수원시 권선구 탑동 870         6\n",
       "경기도 수원시 권선구 호매실동 388-7     6\n",
       "경기도 수원시 영통구 망포동 687        6\n",
       "                          ..\n",
       "경상남도 하동군 금성면 궁항리 1038      1\n",
       "경상남도 하동군 적량면 관리 136-2      1\n",
       "경상남도 창원시 진해구 태백동 5         1\n",
       "경상남도 창원시 진해구 제황산동 28-2     1\n",
       "전라남도 목포시 옥암동 1172          1\n",
       "Name: 소재지지번주소, Length: 10357, dtype: int64"
      ]
     },
     "execution_count": 33,
     "metadata": {},
     "output_type": "execute_result"
    }
   ],
   "source": [
    "pd_data['소재지지번주소'].value_counts()"
   ]
  }
 ],
 "metadata": {
  "kernelspec": {
   "display_name": "Python 3 (ipykernel)",
   "language": "python",
   "name": "python3"
  },
  "language_info": {
   "codemirror_mode": {
    "name": "ipython",
    "version": 3
   },
   "file_extension": ".py",
   "mimetype": "text/x-python",
   "name": "python",
   "nbconvert_exporter": "python",
   "pygments_lexer": "ipython3",
   "version": "3.10.9"
  }
 },
 "nbformat": 4,
 "nbformat_minor": 5
}
