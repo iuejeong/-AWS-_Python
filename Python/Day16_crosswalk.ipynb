{
 "cells": [
  {
   "cell_type": "markdown",
   "id": "c3260249",
   "metadata": {},
   "source": [
    "# 전국횡단보도표준데이터\n",
    "\n",
    "1. 횡단보도 연장, 녹색신호시간 : 상관도.\n",
    "2. 자전거 횡단도 겸용 비율(전체 대비), \n",
    "3. 차로수별 자전거 횡단도 카운트 / 비율\n",
    "4. 차로수별 보행자 신호등 유무 카운트 / 비율\n",
    "5. 차로수별 음향신호기 설치 유무 카운트 / 비율\n",
    "\n",
    "- 화면 출력 \n",
    "1. 상관도 수치\n",
    "2. 비율 수치\n",
    "3. ~5. 카운트, 비율"
   ]
  },
  {
   "cell_type": "code",
   "execution_count": 50,
   "id": "4ba0393f",
   "metadata": {},
   "outputs": [
    {
     "name": "stdout",
     "output_type": "stream",
     "text": [
      "(0, '시도명')\n",
      "(1, '시군구명')\n",
      "(2, '도로명')\n",
      "(3, '소재지도로명주소')\n",
      "(4, '소재지지번주소')\n",
      "(5, '횡단보도관리번호')\n",
      "(6, '횡단보도종류')\n",
      "(7, '자전거횡단도겸용여부')\n",
      "(8, '고원식적용여부')\n",
      "(9, '위도')\n",
      "(10, '경도')\n",
      "(11, '차로수')\n",
      "(12, '횡단보도폭')\n",
      "(13, '횡단보도연장')\n",
      "(14, '보행자신호등유무')\n",
      "(15, '보행자작동신호기유무')\n",
      "(16, '음향신호기설치여부')\n",
      "(17, '녹색신호시간')\n",
      "(18, '적색신호시간')\n",
      "(19, '교통섬유무')\n",
      "(20, '보도턱낮춤여부')\n",
      "(21, '점자블록유무')\n",
      "(22, '집중조명시설유무')\n",
      "(23, '관리기관명')\n",
      "(24, '관리기관전화번호')\n",
      "(25, '데이터기준일자')\n",
      "(26, '제공기관코드')\n",
      "(27, '제공기관명')\n"
     ]
    }
   ],
   "source": [
    "import numpy as np\n",
    "\n",
    "def my_split(s):\n",
    "    block_start = False\n",
    "    start_index = 0\n",
    "    ret_list=[]\n",
    "    for i, c in enumerate(s):\n",
    "        if block_start==False:\n",
    "            if c==',':\n",
    "                ret_list.append(s[start_index:i])\n",
    "                start_index=i+1\n",
    "            elif c=='\"':\n",
    "                block_start=True\n",
    "                start_index = i\n",
    "        else:\n",
    "            if c=='\"':\n",
    "                block_start=False\n",
    "    if s[-1]!=',':\n",
    "        ret_list.append(s[start_index:])\n",
    "    return ret_list\n",
    "\n",
    "def split_len(data_list):\n",
    "    len_list=[]\n",
    "    for e in data_list:\n",
    "        len_list.append(len(e))\n",
    "    print(set(len_list))\n",
    "    if len(set(len_list))>1:\n",
    "        for i in set(len_list):\n",
    "            print(i, len_list.count(i))\n",
    "    return set(len_list)\n",
    "\n",
    "def dist_np(p1, p2): #  [3,10]  [5,25]\n",
    "    return math.sqrt(sum((p2-p1)**2))\n",
    "\n",
    "csv_data = []\n",
    "with open('전국횡단보도표준데이터.csv') as f:\n",
    "    for line in f:\n",
    "        csv_data.append(my_split(line[:-1]))\n",
    "        \n",
    "np_data = np.array(csv_data)\n",
    "for e in enumerate(np_data[0]):\n",
    "    print(e)"
   ]
  },
  {
   "cell_type": "code",
   "execution_count": 76,
   "id": "a8e8a282",
   "metadata": {},
   "outputs": [
    {
     "name": "stdout",
     "output_type": "stream",
     "text": [
      "0.15847542321039498\n"
     ]
    }
   ],
   "source": [
    "# 1. 횡단보도 연장, 녹색신호시간 : 상관도. 13, 17\n",
    "cw_len = np_data[1:, 13].astype(np.float64)\n",
    "gr_time = np_data[1:, 17]\n",
    "cnt, val = np.unique(gr_time, return_counts = True)\n",
    "gr_time = np.where(gr_time == '', '0', gr_time)\n",
    "gr_time = gr_time.astype(np.float64)\n",
    "\n",
    "print(np.corrcoef(cw_len, gr_time)[0][1])\n"
   ]
  },
  {
   "cell_type": "code",
   "execution_count": 89,
   "id": "f7914629",
   "metadata": {},
   "outputs": [
    {
     "name": "stdout",
     "output_type": "stream",
     "text": [
      "['N' 'Y'] [86.46523907 13.53476093]\n"
     ]
    }
   ],
   "source": [
    "# 2. 자전거 횡단도 겸용 비율(전체 대비) 7\n",
    "\n",
    "cycle_data = np_data[1:, 7]\n",
    "\n",
    "filter1 = cycle_data != ' '\n",
    "cycle_data = cycle_data[filter1]\n",
    "\n",
    "val, cnt = np.unique(cycle_data, return_counts = True)\n",
    "print(val, cnt * 100 / sum(cnt))"
   ]
  },
  {
   "cell_type": "code",
   "execution_count": 132,
   "id": "9288fb9b",
   "metadata": {},
   "outputs": [
    {
     "name": "stdout",
     "output_type": "stream",
     "text": [
      "[    2  8536   178    53    23    18     2 19422  3595  9000  3287  3018\n",
      "  1597   814   455]\n",
      "[29476  4614]\n"
     ]
    },
    {
     "ename": "ValueError",
     "evalue": "operands could not be broadcast together with shapes (15,) (2,) ",
     "output_type": "error",
     "traceback": [
      "\u001b[1;31m---------------------------------------------------------------------------\u001b[0m",
      "\u001b[1;31mValueError\u001b[0m                                Traceback (most recent call last)",
      "Cell \u001b[1;32mIn[132], line 11\u001b[0m\n\u001b[0;32m      9\u001b[0m \u001b[38;5;28mprint\u001b[39m(cnt)\n\u001b[0;32m     10\u001b[0m \u001b[38;5;28mprint\u001b[39m(cnt2)\n\u001b[1;32m---> 11\u001b[0m \u001b[38;5;28mprint\u001b[39m(\u001b[43mcnt\u001b[49m\u001b[43m \u001b[49m\u001b[38;5;241;43m/\u001b[39;49m\u001b[43m \u001b[49m\u001b[43mcnt2\u001b[49m)\n",
      "\u001b[1;31mValueError\u001b[0m: operands could not be broadcast together with shapes (15,) (2,) "
     ]
    }
   ],
   "source": [
    "# 3. 차로수별 자전거 횡단도 카운트 / 비율 11, 7\n",
    "\n",
    "car_line = np_data[1:, 11]\n",
    "cycle_cw = np_data[1:, 7]\n",
    "filter2 = cycle_cw != ' '\n",
    "cycle_cw = cycle_cw[filter2]\n",
    "val, cnt = np.unique(car_line, return_counts = True)\n",
    "val2, cnt2 = np.unique(cycle_cw, return_counts = True)\n",
    "print(cnt)\n",
    "print(cnt2)\n",
    "print(cnt / cnt2)"
   ]
  },
  {
   "cell_type": "code",
   "execution_count": 92,
   "id": "ec244e43",
   "metadata": {},
   "outputs": [
    {
     "name": "stdout",
     "output_type": "stream",
     "text": [
      "['3' '9' '9' ... '2' '2' '2']\n"
     ]
    }
   ],
   "source": [
    "# 4. 차로수별 보행자 신호등 유무 카운트 / 비율 11, 14\n",
    "\n",
    "\n"
   ]
  },
  {
   "cell_type": "code",
   "execution_count": null,
   "id": "8d0c69f5",
   "metadata": {},
   "outputs": [],
   "source": [
    "# 5. 차로수별 음향신호기 설치 유무 카운트 / 비율 11, 16\n",
    "\n",
    "\n"
   ]
  }
 ],
 "metadata": {
  "kernelspec": {
   "display_name": "Python 3 (ipykernel)",
   "language": "python",
   "name": "python3"
  },
  "language_info": {
   "codemirror_mode": {
    "name": "ipython",
    "version": 3
   },
   "file_extension": ".py",
   "mimetype": "text/x-python",
   "name": "python",
   "nbconvert_exporter": "python",
   "pygments_lexer": "ipython3",
   "version": "3.10.9"
  }
 },
 "nbformat": 4,
 "nbformat_minor": 5
}
