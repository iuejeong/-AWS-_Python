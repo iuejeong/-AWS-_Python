{
 "cells": [
  {
   "cell_type": "markdown",
   "id": "4e1d834f",
   "metadata": {},
   "source": [
    "## 전국일방통행도로표준데이터\n",
    "- 데이터 전처리\n",
    "\n",
    "    시도명, 지정사유, 지정연도, 도로폭, 도로차로수, 보차분리여부\n",
    "    \n",
    "* 결측치 처리 (column 개별 기준)\n",
    "* 오류치 처리 (unit의 차이)\n",
    "* 이상치 처리 (iqr 사용)\n",
    "* 전처리 내용 정리 "
   ]
  },
  {
   "cell_type": "code",
   "execution_count": 251,
   "id": "95ccbf6b",
   "metadata": {},
   "outputs": [
    {
     "name": "stdout",
     "output_type": "stream",
     "text": [
      "        시도명  지정사유  지정연도  도로폭  도로차로수 보차분리여부\n",
      "0       경기도   NaN   NaN  5.0    1.0      Y\n",
      "1       경기도   NaN   NaN  5.0    1.0      Y\n",
      "2       경기도   NaN   NaN  9.0    1.0      Y\n",
      "3       경기도   NaN   NaN  4.0    1.0      Y\n",
      "4       경기도   NaN   NaN  4.0    1.0      Y\n",
      "...     ...   ...   ...  ...    ...    ...\n",
      "2154    경기도  통행원활   NaN  6.0    1.0      N\n",
      "2155    경기도  통행원활   NaN  6.0    1.0      N\n",
      "2156    경기도  통행원활   NaN  6.0    1.0      N\n",
      "2157    경기도  통행원활   NaN  6.0    1.0      N\n",
      "2158  서울특별시   NaN   NaN  9.5    1.0      N\n",
      "\n",
      "[2159 rows x 6 columns]\n"
     ]
    }
   ],
   "source": [
    "import numpy as np\n",
    "import pandas as pd\n",
    "import matplotlib.pyplot as plt\n",
    "\n",
    "pd_rawdata = pd.read_csv('전국일방통행도로표준데이터.csv', encoding = 'cp949')\n",
    "column_selection = ['시도명', '지정사유', '지정연도', '도로폭', '도로차로수', '보차분리여부']\n",
    "pd_data = pd_rawdata[column_selection]\n",
    "print(pd_data)\n",
    "# print(pd_rawdata[:3])"
   ]
  },
  {
   "cell_type": "code",
   "execution_count": 252,
   "id": "a27effa4",
   "metadata": {},
   "outputs": [
    {
     "name": "stdout",
     "output_type": "stream",
     "text": [
      "시도명        object\n",
      "지정사유       object\n",
      "지정연도      float64\n",
      "도로폭       float64\n",
      "도로차로수     float64\n",
      "보차분리여부     object\n",
      "dtype: object\n",
      "True     1567\n",
      "False     592\n",
      "Name: 지정사유, dtype: int64\n",
      "True     1609\n",
      "False     550\n",
      "Name: 지정연도, dtype: int64\n",
      "False    2158\n",
      "True        1\n",
      "Name: 도로차로수, dtype: int64\n"
     ]
    }
   ],
   "source": [
    "# print(pd_data.shape)\n",
    "# print(pd_data.describe(include = 'all'))\n",
    "print(pd_data.dtypes)\n",
    "\n",
    "for e in pd_data:\n",
    "#     print(e, pd_data[e].hasnans)\n",
    "    if pd_data[e].hasnans:\n",
    "        print(pd_data[e].isna().value_counts())"
   ]
  },
  {
   "cell_type": "code",
   "execution_count": 253,
   "id": "e4328ead",
   "metadata": {},
   "outputs": [
    {
     "name": "stdout",
     "output_type": "stream",
     "text": [
      "차량소통 촉진 및 보행자 안전    1732\n",
      "통행원활                  98\n",
      "교행불가                  60\n",
      "교통불편 해소               55\n",
      "보행안전                  55\n",
      "교통안전                  27\n",
      "주민건의                  24\n",
      "혼잡지역                  18\n",
      "원활한 교통흐름 및 보행 안전      17\n",
      "교통흐름을 원활히 하기 위함       11\n",
      "원활한 차량통행을 위하여 지정      10\n",
      "주민편의                  10\n",
      "통행안전                   6\n",
      "주차혼잡구간                 5\n",
      "부채도로                   4\n",
      "주택밀집지역                 4\n",
      "교통소통                   3\n",
      "보행자안전확보                3\n",
      "시장혼잡구간                 2\n",
      "도로협소                   2\n",
      "원활한교통통행                2\n",
      "차량교행                   2\n",
      "고가도로                   1\n",
      "교통사고 다발                1\n",
      "원통전통시장주차장 출입구          1\n",
      "본도로 진입불가               1\n",
      "순환차로                   1\n",
      "교통혼잡 및 소통 원활 필요        1\n",
      "혼자지역                   1\n",
      "혼잡구역                   1\n",
      "혼잡비역                   1\n",
      "Name: 지정사유, dtype: int64\n"
     ]
    },
    {
     "name": "stderr",
     "output_type": "stream",
     "text": [
      "C:\\Users\\ITPS\\AppData\\Local\\Temp\\ipykernel_10144\\3839854386.py:3: SettingWithCopyWarning: \n",
      "A value is trying to be set on a copy of a slice from a DataFrame.\n",
      "Try using .loc[row_indexer,col_indexer] = value instead\n",
      "\n",
      "See the caveats in the documentation: https://pandas.pydata.org/pandas-docs/stable/user_guide/indexing.html#returning-a-view-versus-a-copy\n",
      "  pd_data.replace({'지정사유' : np.NaN}, '차량소통 촉진 및 보행자 안전', inplace = True)\n"
     ]
    }
   ],
   "source": [
    "# print(pd_data['지정사유'])\n",
    "\n",
    "pd_data.replace({'지정사유' : np.NaN}, '차량소통 촉진 및 보행자 안전', inplace = True)\n",
    "print(pd_data['지정사유'].value_counts())"
   ]
  },
  {
   "cell_type": "code",
   "execution_count": 254,
   "id": "81b57a8a",
   "metadata": {},
   "outputs": [
    {
     "name": "stderr",
     "output_type": "stream",
     "text": [
      "C:\\Users\\ITPS\\AppData\\Local\\Temp\\ipykernel_10144\\212900230.py:2: SettingWithCopyWarning: \n",
      "A value is trying to be set on a copy of a slice from a DataFrame.\n",
      "Try using .loc[row_indexer,col_indexer] = value instead\n",
      "\n",
      "See the caveats in the documentation: https://pandas.pydata.org/pandas-docs/stable/user_guide/indexing.html#returning-a-view-versus-a-copy\n",
      "  pd_data.replace({'지정연도' : np.NaN}, 1990, inplace = True)\n"
     ]
    }
   ],
   "source": [
    "# print(pd_data['지정연도'].value_counts())\n",
    "pd_data.replace({'지정연도' : np.NaN}, 1990, inplace = True)\n",
    "# print(pd_data['지정연도'].value_counts())\n",
    "\n",
    "# def myfn1(x):\n",
    "#     if type(x) == type(' '):\n",
    "#         if '~' in x:\n",
    "#             m = np.array(x.split('~')).astype(np.float64).mean()\n",
    "#             return str(m)\n",
    "\n",
    "# y = pd_data['지정연도'].apply(myfn1)\n",
    "# pd_data['지정연도'] = y\n",
    "# print(y.dtypes)\n",
    "# print(y.value_counts())\n",
    "\n",
    "\n",
    "# print(pd_data['지정연도'].isna().value_counts())\n",
    "# y = y.astype(np.float64)\n",
    "# y = y.replace(np.NaN, y.mean())\n",
    "# print(y.isna().value_counts())\n",
    "# pd_data['지정연도'] = y\n",
    "# print(pd_data['지정연도'].isna().value_counts())\n"
   ]
  },
  {
   "cell_type": "code",
   "execution_count": 255,
   "id": "8f8ad995",
   "metadata": {},
   "outputs": [
    {
     "name": "stdout",
     "output_type": "stream",
     "text": [
      "1990.0    1610\n",
      "1998.0     110\n",
      "2001.0      65\n",
      "2016.0      63\n",
      "1999.0      41\n",
      "2002.0      39\n",
      "2010.0      24\n",
      "2017.0      19\n",
      "2013.0      17\n",
      "2018.0      16\n",
      "2011.0      15\n",
      "2009.0      14\n",
      "2021.0      12\n",
      "2015.0      11\n",
      "2019.0      11\n",
      "2020.0      10\n",
      "1996.0       9\n",
      "2004.0       9\n",
      "2005.0       9\n",
      "2012.0       9\n",
      "2014.0       8\n",
      "2000.0       8\n",
      "2022.0       8\n",
      "1995.0       5\n",
      "2006.0       4\n",
      "1997.0       4\n",
      "2008.0       3\n",
      "2003.0       3\n",
      "2007.0       3\n",
      "Name: 지정연도, dtype: int64\n"
     ]
    }
   ],
   "source": [
    "print(pd_data['지정연도'].value_counts())"
   ]
  },
  {
   "cell_type": "code",
   "execution_count": 134,
   "id": "8e5bd6ad",
   "metadata": {},
   "outputs": [
    {
     "name": "stdout",
     "output_type": "stream",
     "text": [
      "1.0     2042\n",
      "2.0       90\n",
      "4.0       12\n",
      "3.0        9\n",
      "5.0        4\n",
      "1.0        1\n",
      "60.0       1\n",
      "Name: 도로차로수, dtype: int64\n"
     ]
    },
    {
     "name": "stderr",
     "output_type": "stream",
     "text": [
      "C:\\Users\\ITPS\\AppData\\Local\\Temp\\ipykernel_10144\\4009533736.py:2: SettingWithCopyWarning: \n",
      "A value is trying to be set on a copy of a slice from a DataFrame.\n",
      "Try using .loc[row_indexer,col_indexer] = value instead\n",
      "\n",
      "See the caveats in the documentation: https://pandas.pydata.org/pandas-docs/stable/user_guide/indexing.html#returning-a-view-versus-a-copy\n",
      "  pd_data.replace({'도로차로수' : np.NaN}, '1.0', inplace = True)\n"
     ]
    }
   ],
   "source": [
    "# print(pd_data['도로차로수'].value_counts())\n",
    "pd_data.replace({'도로차로수' : np.NaN}, '1.0', inplace = True)\n",
    "print(pd_data['도로차로수'].value_counts())"
   ]
  },
  {
   "cell_type": "code",
   "execution_count": 135,
   "id": "72679dc4",
   "metadata": {},
   "outputs": [
    {
     "name": "stdout",
     "output_type": "stream",
     "text": [
      "        시도명              지정사유       지정연도  도로폭 도로차로수 보차분리여부\n",
      "0       경기도  차량소통 촉진 및 보행자 안전  1990~2022  5.0   1.0      Y\n",
      "1       경기도  차량소통 촉진 및 보행자 안전  1990~2022  5.0   1.0      Y\n",
      "2       경기도  차량소통 촉진 및 보행자 안전  1990~2022  9.0   1.0      Y\n",
      "3       경기도  차량소통 촉진 및 보행자 안전  1990~2022  4.0   1.0      Y\n",
      "4       경기도  차량소통 촉진 및 보행자 안전  1990~2022  4.0   1.0      Y\n",
      "...     ...               ...        ...  ...   ...    ...\n",
      "2154    경기도              통행원활  1990~2022  6.0   1.0      N\n",
      "2155    경기도              통행원활  1990~2022  6.0   1.0      N\n",
      "2156    경기도              통행원활  1990~2022  6.0   1.0      N\n",
      "2157    경기도              통행원활  1990~2022  6.0   1.0      N\n",
      "2158  서울특별시  차량소통 촉진 및 보행자 안전  1990~2022  9.5   1.0      N\n",
      "\n",
      "[2159 rows x 6 columns]\n"
     ]
    }
   ],
   "source": [
    "print(pd_data)"
   ]
  },
  {
   "cell_type": "markdown",
   "id": "43ef59e7",
   "metadata": {},
   "source": [
    "### 시도명\n",
    "\n",
    "* dtype: category\n",
    "* value:\n",
    "* 결측치 없음\n",
    "\n",
    "### 지정사유\n",
    "\n",
    "* dtype: object\n",
    "* 결측치 없음\n",
    "\n",
    "### 지정연도\n",
    "\n",
    "* dtype: category\n",
    "* value: 'Y', 'N'\n",
    "* 결측치 없음\n",
    "\n",
    "### 도로폭\n",
    "\n",
    "* dtype: np.int64\n",
    "* min / max: 0 / _\n",
    "* 결측치 (개, 처리 후 결측치 없음)\n",
    "\n",
    "\n",
    "### 도로차로수\n",
    "\n",
    "* dtype: np.float64\n",
    "* min / max:\n",
    "* 오류치 (개, 처리 후 오류치 없음)\n",
    "    \n",
    "    '숫자a ~ 숫자b' 형태의 문자열 --> '숫자a'와 '숫자b'의 평균치(np.float64) 값으로 대체\n",
    "\n",
    "- 결측치 (개, 처리 후 결측치 없음)\n",
    "   \n",
    "   전체 평균값으로 대체\n",
    "   \n",
    "### 보차분리여부\n",
    "\n",
    "* dtype:\n",
    "* value: 'Y', 'N'\n",
    "* 결측치: 없음"
   ]
  }
 ],
 "metadata": {
  "kernelspec": {
   "display_name": "Python 3 (ipykernel)",
   "language": "python",
   "name": "python3"
  },
  "language_info": {
   "codemirror_mode": {
    "name": "ipython",
    "version": 3
   },
   "file_extension": ".py",
   "mimetype": "text/x-python",
   "name": "python",
   "nbconvert_exporter": "python",
   "pygments_lexer": "ipython3",
   "version": "3.10.9"
  }
 },
 "nbformat": 4,
 "nbformat_minor": 5
}
