{
 "cells": [
  {
   "cell_type": "code",
   "execution_count": 1,
   "id": "32c1d2a4",
   "metadata": {},
   "outputs": [
    {
     "name": "stdout",
     "output_type": "stream",
     "text": [
      "myclass: 100,def\n",
      "<class '__main__.myclass'>\n",
      "500 def\n"
     ]
    }
   ],
   "source": [
    "class myclass:\n",
    "    myvar1 = 10\n",
    "    myvar2 = 'abc'\n",
    "    \n",
    "    def __init__(self, a = 0, b = 'aaa'): # 생성자, 매개변수 기본값\n",
    "        self.myvar1 = a\n",
    "        self.myvar2 = b # 변수 초기화도 가능, 매개변수도 가능\n",
    "    \n",
    "    def mymethod1(self, n):\n",
    "        print(self.myvar1 * n, self.myvar2)\n",
    "        \n",
    "    def __str__(self):\n",
    "        return 'myclass: {},{}'.format(self.myvar1, self.myvar2) # 무슨 값이 들었는지 알려줌\n",
    "\n",
    "a = myclass(100, 'def') # 값 삽입\n",
    "print(a)\n",
    "print(type(a))\n",
    "\n",
    "a.mymethod1(5)"
   ]
  },
  {
   "cell_type": "code",
   "execution_count": 5,
   "id": "858f3dd0",
   "metadata": {},
   "outputs": [
    {
     "name": "stdout",
     "output_type": "stream",
     "text": [
      "myclass2 - mymethod 10\n",
      "myclass2 - mymethod2\n"
     ]
    }
   ],
   "source": [
    "class myclass2(myclass):\n",
    "    def mymethod1(self, n):\n",
    "        print('myclass2 - mymethod', n)\n",
    "        \n",
    "    def mymethod2(self):\n",
    "        print('myclass2 - mymethod2')\n",
    "    \n",
    "b = myclass2()\n",
    "b.mymethod1(10)\n",
    "b.mymethod2()"
   ]
  },
  {
   "cell_type": "code",
   "execution_count": 10,
   "id": "1bcd9219",
   "metadata": {},
   "outputs": [
    {
     "name": "stdout",
     "output_type": "stream",
     "text": [
      "['a', 'b', 'c', 'd', 'e', 'f', 'c', 'g', 'h', 'i']\n",
      "['a', 'c', 'd', 'e', 'f', 'c', 'g', 'h', 'i']\n"
     ]
    }
   ],
   "source": [
    "list_1 = list('abcdefcghi') # list 안에 특정한 값을 지우는 remove라는 메서드가 있다.\n",
    "print(list_1)\n",
    "list_1.remove('b')\n",
    "print(list_1)"
   ]
  },
  {
   "cell_type": "code",
   "execution_count": 15,
   "id": "ba33de49",
   "metadata": {},
   "outputs": [
    {
     "name": "stdout",
     "output_type": "stream",
     "text": [
      "['a', 'b', 'd', 'e', 'f', 'c', 'g', 'h', 'i']\n"
     ]
    }
   ],
   "source": [
    "def list_remove_all(target_list, target_value):\n",
    "    while target_value in target_list:\n",
    "        target_list.remove(target_value)\n",
    "        return target_list\n",
    "    \n",
    "def list_remove_all_v2(target_list, target_value):\n",
    "    while True:\n",
    "        try:\n",
    "            target_list.remove(target_value)\n",
    "        except:\n",
    "            return target_list\n",
    "        \n",
    "ret_list = list_remove_all(list('abcdefcghi'), 'c')\n",
    "print(ret_list)     #['a', 'b', 'd', 'e', 'f', 'g', 'h', 'i']"
   ]
  },
  {
   "cell_type": "code",
   "execution_count": 22,
   "id": "3ead08d6",
   "metadata": {},
   "outputs": [
    {
     "name": "stdout",
     "output_type": "stream",
     "text": [
      "['a', 'b', 'c', 'c', 'd', 'c', 1, 2]\n"
     ]
    },
    {
     "data": {
      "text/plain": [
       "['a', 'b', 'd', 1, 2]"
      ]
     },
     "execution_count": 22,
     "metadata": {},
     "output_type": "execute_result"
    }
   ],
   "source": [
    "class mylist(list):\n",
    "    def remove_all(self, target_value):\n",
    "        while target_value in self:\n",
    "            self.remove(target_value)\n",
    "        return self\n",
    "\n",
    "mylist_1 = mylist(list('abccdc'))\n",
    "mylist_1.append(1)\n",
    "mylist_1.append(2)\n",
    "print(mylist_1)\n",
    "mylist_1.remove_all('c')\n",
    "print(mylist_1.remove_all('c'))"
   ]
  }
 ],
 "metadata": {
  "kernelspec": {
   "display_name": "Python 3 (ipykernel)",
   "language": "python",
   "name": "python3"
  },
  "language_info": {
   "codemirror_mode": {
    "name": "ipython",
    "version": 3
   },
   "file_extension": ".py",
   "mimetype": "text/x-python",
   "name": "python",
   "nbconvert_exporter": "python",
   "pygments_lexer": "ipython3",
   "version": "3.10.9"
  }
 },
 "nbformat": 4,
 "nbformat_minor": 5
}
