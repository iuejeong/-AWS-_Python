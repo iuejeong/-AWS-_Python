{
 "cells": [
  {
   "cell_type": "code",
   "execution_count": 37,
   "id": "19b5ed6e",
   "metadata": {},
   "outputs": [
    {
     "name": "stdout",
     "output_type": "stream",
     "text": [
      "30\n"
     ]
    }
   ],
   "source": [
    "import numpy as np\n",
    "def my_sq_prod(numpy_ndarry):\n",
    "    \n",
    "    b = np.prod((numpy_ndarry*numpy_ndarry))\n",
    "    \n",
    "    return b\n",
    "my_sq_prod(np.array([1,2,3]))\n",
    "\n",
    "def score_check():\n",
    "    score = 0\n",
    "    if my_sq_prod(np.array([1, 2, 3])) == 36:\n",
    "        score += 30\n",
    "        print(score)\n",
    "\n",
    "if __name__ == \"__main__\":\n",
    "    score_check()"
   ]
  }
 ],
 "metadata": {
  "kernelspec": {
   "display_name": "Python 3 (ipykernel)",
   "language": "python",
   "name": "python3"
  },
  "language_info": {
   "codemirror_mode": {
    "name": "ipython",
    "version": 3
   },
   "file_extension": ".py",
   "mimetype": "text/x-python",
   "name": "python",
   "nbconvert_exporter": "python",
   "pygments_lexer": "ipython3",
   "version": "3.10.9"
  }
 },
 "nbformat": 4,
 "nbformat_minor": 5
}
