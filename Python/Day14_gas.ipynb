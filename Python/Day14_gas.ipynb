{
 "cells": [
  {
   "cell_type": "markdown",
   "id": "97b33506",
   "metadata": {},
   "source": [
    "### kosis 부산광역시 가스 사용량 2010 - 2020\n",
    "\n",
    "- 년도별 도시가스 / 프로판 판배량 비율\n",
    "    프로판 가스보다 도시가스 사용량이 점점 늘어나는가\n",
    "    도시가스 : 14.05206635 11.90604976 10.781497    8.04722945  6.26402748  5.49942633\n",
    "  5.50188799  5.02306741  5.12714633  6.19599723  8.58577885 13.01582583\n",
    "  \n",
    "    프로판 : 11.2772806   9.78934166  9.77062173  7.93725079  7.61398714  6.33512027\n",
    "  6.83228223  6.78390598  7.17860095  7.40166371  8.52633747 10.55360748\n",
    "\n",
    "- 년도별 도시가스, 년도별 프로판 사용량 상관도\n",
    "    도시가스 사용량이 점점 많아지고 있는가\n",
    "    프로판 가스 사용량은 점점 줄어들고 있는가\n",
    "    \n",
    "- 도시가스\n",
    "    년도별 겨울(10, 11, 12, 1, 2, 3) 평균사용량/\n",
    "           비겨울(4, 5, 6, 7, 8, 9) 평균사용량\n",
    "           --> ttest (평균 사용량에 차이가 있는가)\n",
    "    같은 분석을, 프로판 / 부탄 가스를 대상으로도 실행.\n",
    "      "
   ]
  },
  {
   "cell_type": "code",
   "execution_count": 1,
   "id": "9685eeda",
   "metadata": {},
   "outputs": [],
   "source": [
    "import numpy as np\n",
    "import matplotlib.pyplot as plt\n",
    "\n",
    "def my_split(s):\n",
    "    block_start = False\n",
    "    start_index = 0\n",
    "    ret_list=[]\n",
    "    for i, c in enumerate(s):\n",
    "        if block_start==False:\n",
    "            if c==',':\n",
    "                ret_list.append(s[start_index:i])\n",
    "                start_index=i+1\n",
    "            elif c=='\"':\n",
    "                block_start=True\n",
    "                start_index = i\n",
    "        else:\n",
    "            if c=='\"':\n",
    "                block_start=False\n",
    "    if s[-1]!=',':\n",
    "        ret_list.append(s[start_index:])\n",
    "    return ret_list\n",
    "\n",
    "def split_len(data_list):\n",
    "    len_list=[]\n",
    "    for e in data_list:\n",
    "        len_list.append(len(e))\n",
    "    print(set(len_list))\n",
    "    if len(set(len_list))>1:\n",
    "        for i in set(len_list):\n",
    "            print(i, len_list.count(i))\n",
    "    return set(len_list)\n",
    "\n",
    "def dist_np(p1, p2): #  [3,10]  [5,25]\n",
    "    return math.sqrt(sum((p2-p1)**2))"
   ]
  },
  {
   "cell_type": "code",
   "execution_count": 4,
   "id": "2c9800d0",
   "metadata": {},
   "outputs": [
    {
     "name": "stdout",
     "output_type": "stream",
     "text": [
      "(0, ['\"시점\"', '\"월별(1)\"', '도시가스 (천㎥)', '도시가스 (천㎥)', '프로판 (ton)', '프로판 (ton)', '부탄 (ton)', '부탄 (ton)'])\n",
      "(1, ['\"시점\"', '\"월별(1)\"', '판매소수 (개)', '판매량', '판매소수 (개)', '판매량', '판매소수 (개)', '판매량'])\n"
     ]
    }
   ],
   "source": [
    "csv_data = []\n",
    "with open('가스공급량_20230217170922.csv') as f:\n",
    "    for line in f:\n",
    "        csv_data.append(my_split(line[:-1]))\n",
    "        \n",
    "# print(csv_data[:3])\n",
    "for i in enumerate(csv_data[:2]):\n",
    "    print(i)"
   ]
  },
  {
   "cell_type": "code",
   "execution_count": 57,
   "id": "6821b6bd",
   "metadata": {
    "scrolled": true
   },
   "outputs": [
    {
     "name": "stdout",
     "output_type": "stream",
     "text": [
      "[14.05206635 11.90604976 10.781497    8.04722945  6.26402748  5.49942633\n",
      "  5.50188799  5.02306741  5.12714633  6.19599723  8.58577885 13.01582583\n",
      " 11.2772806   9.78934166  9.77062173  7.93725079  7.61398714  6.33512027\n",
      "  6.83228223  6.78390598  7.17860095  7.40166371  8.52633747 10.55360748]\n"
     ]
    }
   ],
   "source": [
    "# 연도별 도시가스 / 프로판 판매량 비율\n",
    "\n",
    "np_data = np.array(csv_data[2:])\n",
    "# year_np = np_data[:, 0].reshape(11, 12).astype(np.str)\n",
    "\n",
    "gas_cnt = np_data[:, 3].reshape(11, 12).astype(np.int64)\n",
    "pro_cnt = np_data[:, 5].reshape(11, 12).astype(np.int64)\n",
    "\n",
    "gas_mean = sum(gas_cnt) * 100 / np.sum(gas_cnt)\n",
    "pro_mean = sum(pro_cnt) * 100 / np.sum(pro_cnt)\n",
    "\n",
    "gas_data = np.concatenate((gas_mean, pro_mean))\n",
    "\n",
    "print(gas_data)"
   ]
  },
  {
   "cell_type": "code",
   "execution_count": 73,
   "id": "bd19b1f0",
   "metadata": {},
   "outputs": [
    {
     "name": "stdout",
     "output_type": "stream",
     "text": [
      "[[179086 139496 143581 114671  79649  70646]\n",
      " [ 68554  65293  62398  77985 113800 160555]\n",
      " [200683 144076 145930 103965  83355  74141]\n",
      " [ 70168  64615  66426  81153  99188 164254]\n",
      " [178441 173008 144653 103329  83927  74280]\n",
      " [ 75623  68263  71611  83074 122244 181273]\n",
      " [191681 152480 129637 114523  88225  72520]\n",
      " [ 73740  64914  63962  81581 117201 167572]\n",
      " [175047 150507 143724 101976  84307  71273]\n",
      " [ 74293  67698  70148  84946 109302 179852]\n",
      " [177213 150835 147748 107320  79993  74101]\n",
      " [ 76227  65733  69305  84487 108315 155704]\n",
      " [192790 172558 148808 103696  85581  75733]\n",
      " [ 73754  66741  70137  82216 122259 166731]\n",
      " [188340 176003 156492 108379  82001  79125]\n",
      " [ 76376  72262  75554  82870 125300 204669]\n",
      " [215573 186204 157745 108188  93931  77279]\n",
      " [ 77269  71037  72533  94793 125270 182018]\n",
      " [210982 167223 144388 121169  90821  79148]\n",
      " [ 78992  73847  73547  87861 117687 182975]\n",
      " [190840 167473 149045 115783  84634  73876]\n",
      " [ 77494  70507  70848  85288 122942 200163]]\n"
     ]
    }
   ],
   "source": [
    "#년도별 겨울(10, 11, 12, 1, 2, 3) 평균사용량 / 비겨울(4, 5, 6, 7, 8, 9) 평균사용량\n",
    "\n",
    "np_cnt = np_data[:, 3].reshape(22, 6).astype(np.int64)\n",
    "\n",
    "\n",
    "print(np_cnt[:, :])"
   ]
  },
  {
   "cell_type": "code",
   "execution_count": null,
   "id": "cc670b25",
   "metadata": {},
   "outputs": [],
   "source": [
    "# t = set()\n",
    "# for e in csv_data:\n",
    "#     t.add(len(e))\n",
    "# print(t)\n",
    "# np_data = np.array(csv_data[2:])\n",
    "# np_data = np_data[:, 2:].astype(np.int64)"
   ]
  }
 ],
 "metadata": {
  "kernelspec": {
   "display_name": "Python 3 (ipykernel)",
   "language": "python",
   "name": "python3"
  },
  "language_info": {
   "codemirror_mode": {
    "name": "ipython",
    "version": 3
   },
   "file_extension": ".py",
   "mimetype": "text/x-python",
   "name": "python",
   "nbconvert_exporter": "python",
   "pygments_lexer": "ipython3",
   "version": "3.10.9"
  }
 },
 "nbformat": 4,
 "nbformat_minor": 5
}
