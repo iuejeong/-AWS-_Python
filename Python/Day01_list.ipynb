{
 "cells": [
  {
   "cell_type": "code",
   "execution_count": 3,
   "id": "012dd864",
   "metadata": {
    "scrolled": true
   },
   "outputs": [
    {
     "name": "stdout",
     "output_type": "stream",
     "text": [
      "[0, 1, 2, 3, 4, 5, 6, 7, 8, 9]\n",
      "[100, 101, 102, 103, 104, 105, 106, 107, 108, 109]\n",
      "False\n",
      "[0, 1, 2, 3, 4, 5, 6, 7, 8, 9, 100, 101, 102, 103, 104, 105, 106, 107, 108, 109]\n",
      "[0, 1, 2, 3, 4, 5, 6, 7, 8, 9, 0, 1, 2, 3, 4, 5, 6, 7, 8, 9]\n"
     ]
    }
   ],
   "source": [
    "list_a = [i for i in range(10)]\n",
    "list_b = [i for i in range(100,110)]\n",
    "print(list_a)\n",
    "print(list_b)\n",
    "\n",
    "# in 특정한 list 안에 내가 저징한 숫자가 들어있는지 확인하는 용도\n",
    "if 10 in list_a:\n",
    "    print('True')\n",
    "else:\n",
    "    print('False')\n",
    "\n",
    "#concat 덧셈\n",
    "list_c = list_a + list_b\n",
    "print(list_c)\n",
    "\n",
    "# * \n",
    "print(list_a * 2)   # 2 * list_a\n"
   ]
  },
  {
   "cell_type": "code",
   "execution_count": 55,
   "id": "a0449e47",
   "metadata": {
    "scrolled": true
   },
   "outputs": [
    {
     "name": "stdout",
     "output_type": "stream",
     "text": [
      "['a', 'b', 'c', 'd', 'e', 'f', 'g', 'h', 'i', 'c', 'j', 'k', 'l', 'm', 'n']\n",
      "d\n",
      "['d', 'f', 'h', 'c']\n",
      "15\n",
      "a\n",
      "n\n",
      "9\n",
      "count: 2\n"
     ]
    }
   ],
   "source": [
    "list_d = list('abcdefghicjklmn')\n",
    "print(list_d)\n",
    "print(list_d[3])\n",
    "print(list_d[3 : 10 : 2])\n",
    "print(len(list_d))\n",
    "print(min(list_d))\n",
    "print(max(list_d))\n",
    "c_index = list_d.index('c', 4, 10)\n",
    "print(c_index)\n",
    "\n",
    "#list_d[c_index] = 'x'\n",
    "#print(list_d)\n",
    "print('count:', list_d.count('c'))"
   ]
  },
  {
   "cell_type": "code",
   "execution_count": 73,
   "id": "c3212372",
   "metadata": {
    "scrolled": true
   },
   "outputs": [
    {
     "name": "stdout",
     "output_type": "stream",
     "text": [
      "while the python language reference describes the exact syntax and semantics of the python language, this library reference manual describes the standard library that is distributed with python. it also describes some of the optional components that are commonly included in python distributions.\n",
      "{'r', 'x', 'y', 's', 'a', 'f', 'd', 'h', 'p', 'g', 't', 'n', ' ', 'u', '.', 'e', 'm', 'i', ',', 'w', 'l', 'c', 'b', 'o'}\n",
      "r 15\n",
      "x 2\n",
      "y 8\n",
      "s 18\n",
      "a 19\n",
      "f 4\n",
      "d 11\n",
      "h 14\n",
      "p 6\n",
      "g 4\n",
      "t 26\n",
      "n 20\n",
      "u 6\n",
      "e 29\n",
      "m 6\n",
      "i 19\n",
      ", 1\n",
      "w 2\n",
      "l 10\n",
      "c 10\n",
      "b 7\n",
      "o 15\n"
     ]
    }
   ],
   "source": [
    "s = 'While The Python Language Reference describes the exact syntax and semantics of the Python language, this library reference manual describes the standard library that is distributed with Python. It also describes some of the optional components that are commonly included in Python distributions.'\n",
    "print(s.lower())\n",
    "list_s = list(s.lower())\n",
    "#print(list_s)\n",
    "set_s = set(list_s)\n",
    "print(set_s)\n",
    "exclude_list = ['.', ' ']\n",
    "for i in set_s:\n",
    "    if i not in exclude_list:\n",
    "        print(i, list_s.count(i))"
   ]
  },
  {
   "cell_type": "code",
   "execution_count": 90,
   "id": "40c94edd",
   "metadata": {},
   "outputs": [
    {
     "name": "stdout",
     "output_type": "stream",
     "text": [
      "[1, 2, 3]\n",
      "['a', 'b', 'c']\n",
      "{'a': 1, 'b': 2, 'c': 3}\n",
      "{'a': 1, 'b': 2, 'c': 3}\n",
      "dict_items([('a', 1), ('b', 2), ('c', 3)])\n",
      "{'a': 1, 'b': 2, 'c': 3}\n",
      "3\n",
      "3\n",
      "None\n",
      "{'a': 1, 'b': 2, 'c': 3, 'y': 15}\n"
     ]
    }
   ],
   "source": [
    "list_a = [1,2,3]\n",
    "list_b = list('abc')\n",
    "d1 = {'a' : 1, 'b' : 2, 'c' : 3}\n",
    "print(list_a)\n",
    "print(list_b)\n",
    "print(d1)\n",
    "\n",
    "d2 = dict(zip(list_b, list_a)) # 옷에 달린 지퍼\n",
    "print(d2)\n",
    "print(d2.items())\n",
    "\n",
    "d3 = dict([('a', 1), ('b', 2), ('c', 3)]) # zip이 하는 일\n",
    "print(d3)\n",
    "\n",
    "print(d3['c']) # 프로그램이 꺼질 위험 있음\n",
    "print(d3.get('c'))\n",
    "print(d3.get('x'))\n",
    "d3['y'] = 15\n",
    "print(d3)"
   ]
  },
  {
   "cell_type": "code",
   "execution_count": 95,
   "id": "7c2514f2",
   "metadata": {
    "scrolled": true
   },
   "outputs": [
    {
     "name": "stdout",
     "output_type": "stream",
     "text": [
      "a 1\n",
      "b 2\n",
      "c 3\n",
      "y 15\n",
      "dict_keys(['a', 'b', 'c', 'y'])\n",
      "dict_values([1, 2, 3, 15])\n",
      "1\n",
      "2\n",
      "3\n",
      "15\n",
      "{'a': 1, 'b': 2, 'c': 3, 'y': 15}\n",
      "{'a': 1, 'b': 2, 'c': 3, 'y': 20}\n"
     ]
    }
   ],
   "source": [
    "for i in d3:\n",
    "    print(i, d3[i])\n",
    "    \n",
    "print(d3.keys())\n",
    "print(d3.values())\n",
    "\n",
    "for i in d3.values():\n",
    "    print(i)\n",
    "    \n",
    "print(d3)\n",
    "d3['y'] = 20\n",
    "print(d3)"
   ]
  },
  {
   "cell_type": "code",
   "execution_count": 76,
   "id": "44eb1dda",
   "metadata": {},
   "outputs": [
    {
     "name": "stdout",
     "output_type": "stream",
     "text": [
      "Help on class dict in module builtins:\n",
      "\n",
      "class dict(object)\n",
      " |  dict() -> new empty dictionary\n",
      " |  dict(mapping) -> new dictionary initialized from a mapping object's\n",
      " |      (key, value) pairs\n",
      " |  dict(iterable) -> new dictionary initialized as if via:\n",
      " |      d = {}\n",
      " |      for k, v in iterable:\n",
      " |          d[k] = v\n",
      " |  dict(**kwargs) -> new dictionary initialized with the name=value pairs\n",
      " |      in the keyword argument list.  For example:  dict(one=1, two=2)\n",
      " |  \n",
      " |  Built-in subclasses:\n",
      " |      StgDict\n",
      " |  \n",
      " |  Methods defined here:\n",
      " |  \n",
      " |  __contains__(self, key, /)\n",
      " |      True if the dictionary has the specified key, else False.\n",
      " |  \n",
      " |  __delitem__(self, key, /)\n",
      " |      Delete self[key].\n",
      " |  \n",
      " |  __eq__(self, value, /)\n",
      " |      Return self==value.\n",
      " |  \n",
      " |  __ge__(self, value, /)\n",
      " |      Return self>=value.\n",
      " |  \n",
      " |  __getattribute__(self, name, /)\n",
      " |      Return getattr(self, name).\n",
      " |  \n",
      " |  __getitem__(...)\n",
      " |      x.__getitem__(y) <==> x[y]\n",
      " |  \n",
      " |  __gt__(self, value, /)\n",
      " |      Return self>value.\n",
      " |  \n",
      " |  __init__(self, /, *args, **kwargs)\n",
      " |      Initialize self.  See help(type(self)) for accurate signature.\n",
      " |  \n",
      " |  __ior__(self, value, /)\n",
      " |      Return self|=value.\n",
      " |  \n",
      " |  __iter__(self, /)\n",
      " |      Implement iter(self).\n",
      " |  \n",
      " |  __le__(self, value, /)\n",
      " |      Return self<=value.\n",
      " |  \n",
      " |  __len__(self, /)\n",
      " |      Return len(self).\n",
      " |  \n",
      " |  __lt__(self, value, /)\n",
      " |      Return self<value.\n",
      " |  \n",
      " |  __ne__(self, value, /)\n",
      " |      Return self!=value.\n",
      " |  \n",
      " |  __or__(self, value, /)\n",
      " |      Return self|value.\n",
      " |  \n",
      " |  __repr__(self, /)\n",
      " |      Return repr(self).\n",
      " |  \n",
      " |  __reversed__(self, /)\n",
      " |      Return a reverse iterator over the dict keys.\n",
      " |  \n",
      " |  __ror__(self, value, /)\n",
      " |      Return value|self.\n",
      " |  \n",
      " |  __setitem__(self, key, value, /)\n",
      " |      Set self[key] to value.\n",
      " |  \n",
      " |  __sizeof__(...)\n",
      " |      D.__sizeof__() -> size of D in memory, in bytes\n",
      " |  \n",
      " |  clear(...)\n",
      " |      D.clear() -> None.  Remove all items from D.\n",
      " |  \n",
      " |  copy(...)\n",
      " |      D.copy() -> a shallow copy of D\n",
      " |  \n",
      " |  get(self, key, default=None, /)\n",
      " |      Return the value for key if key is in the dictionary, else default.\n",
      " |  \n",
      " |  items(...)\n",
      " |      D.items() -> a set-like object providing a view on D's items\n",
      " |  \n",
      " |  keys(...)\n",
      " |      D.keys() -> a set-like object providing a view on D's keys\n",
      " |  \n",
      " |  pop(...)\n",
      " |      D.pop(k[,d]) -> v, remove specified key and return the corresponding value.\n",
      " |      \n",
      " |      If the key is not found, return the default if given; otherwise,\n",
      " |      raise a KeyError.\n",
      " |  \n",
      " |  popitem(self, /)\n",
      " |      Remove and return a (key, value) pair as a 2-tuple.\n",
      " |      \n",
      " |      Pairs are returned in LIFO (last-in, first-out) order.\n",
      " |      Raises KeyError if the dict is empty.\n",
      " |  \n",
      " |  setdefault(self, key, default=None, /)\n",
      " |      Insert key with a value of default if key is not in the dictionary.\n",
      " |      \n",
      " |      Return the value for key if key is in the dictionary, else default.\n",
      " |  \n",
      " |  update(...)\n",
      " |      D.update([E, ]**F) -> None.  Update D from dict/iterable E and F.\n",
      " |      If E is present and has a .keys() method, then does:  for k in E: D[k] = E[k]\n",
      " |      If E is present and lacks a .keys() method, then does:  for k, v in E: D[k] = v\n",
      " |      In either case, this is followed by: for k in F:  D[k] = F[k]\n",
      " |  \n",
      " |  values(...)\n",
      " |      D.values() -> an object providing a view on D's values\n",
      " |  \n",
      " |  ----------------------------------------------------------------------\n",
      " |  Class methods defined here:\n",
      " |  \n",
      " |  __class_getitem__(...) from builtins.type\n",
      " |      See PEP 585\n",
      " |  \n",
      " |  fromkeys(iterable, value=None, /) from builtins.type\n",
      " |      Create a new dictionary with keys from iterable and values set to value.\n",
      " |  \n",
      " |  ----------------------------------------------------------------------\n",
      " |  Static methods defined here:\n",
      " |  \n",
      " |  __new__(*args, **kwargs) from builtins.type\n",
      " |      Create and return a new object.  See help(type) for accurate signature.\n",
      " |  \n",
      " |  ----------------------------------------------------------------------\n",
      " |  Data and other attributes defined here:\n",
      " |  \n",
      " |  __hash__ = None\n",
      "\n"
     ]
    }
   ],
   "source": [
    "help(dict)"
   ]
  }
 ],
 "metadata": {
  "kernelspec": {
   "display_name": "Python 3 (ipykernel)",
   "language": "python",
   "name": "python3"
  },
  "language_info": {
   "codemirror_mode": {
    "name": "ipython",
    "version": 3
   },
   "file_extension": ".py",
   "mimetype": "text/x-python",
   "name": "python",
   "nbconvert_exporter": "python",
   "pygments_lexer": "ipython3",
   "version": "3.10.9"
  }
 },
 "nbformat": 4,
 "nbformat_minor": 5
}
