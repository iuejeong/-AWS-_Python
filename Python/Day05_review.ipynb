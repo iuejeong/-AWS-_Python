{
 "cells": [
  {
   "cell_type": "code",
   "execution_count": 8,
   "id": "42c87c84",
   "metadata": {},
   "outputs": [
    {
     "name": "stdout",
     "output_type": "stream",
     "text": [
      "10.5\n",
      "datatype:list\n"
     ]
    }
   ],
   "source": [
    "# int(), float(), bool(), str()\n",
    "\n",
    "try:\n",
    "    a = [20.5, '10.5']\n",
    "    for i in a:\n",
    "        int(i)\n",
    "except:\n",
    "    print(i)\n",
    "\n",
    "a = [20.5, '10.5']\n",
    "if isinstance(a, type([])): # 데이터 타입 분석용\n",
    "    print('datatype:list')\n",
    "elif isinstance(a, type('')):\n",
    "    print('datatype:str')\n",
    "\n",
    "# list, tuple, set, dictionary "
   ]
  },
  {
   "cell_type": "code",
   "execution_count": 42,
   "id": "455965c7",
   "metadata": {},
   "outputs": [
    {
     "name": "stdout",
     "output_type": "stream",
     "text": [
      "{'x': 10, 'y': 20, 'z': 30}\n",
      "10\n",
      "10\n",
      "{'x': 10, 'y': 50, 'z': 30}\n",
      "{'x': 10, 'y': 50, 'z': 30, 'newkey': 1234}\n",
      "dict_keys(['x', 'y', 'z', 'newkey'])\n",
      "dict_values([10, 50, 30, 1234])\n",
      "dict_items([('x', 10), ('y', 50), ('z', 30), ('newkey', 1234)])\n",
      "x 10\n",
      "y 50\n",
      "z 30\n",
      "newkey 1234\n"
     ]
    }
   ],
   "source": [
    "# dictionary : key - value\n",
    "dict1 = {'a':1, 'b':2, 'c':3}\n",
    "\n",
    "key_list = list('xyz')\n",
    "value_list = [10, 20, 30]\n",
    "\n",
    "x = zip(key_list, value_list)    # [('x', 10), ('y', 20), ('z', 30)]\n",
    "dict2 = dict(x)\n",
    "print(dict2)\n",
    "\n",
    "print(dict2['x'])          # 없는 key 값을 주면 error가 뜬다\n",
    "print(dict2.get('x'))      # 없는 key 값을 줘도 none이라고 조회를 해준다\n",
    "\n",
    "dict2['y'] = 50\n",
    "print(dict2)\n",
    "\n",
    "dict2['newkey'] = 1234     # 새로운 key와 value 페어 생성\n",
    "print(dict2)\n",
    "\n",
    "klist = dict2.keys()\n",
    "vlist = dict2.values()\n",
    "print(klist)\n",
    "print(vlist)\n",
    "print(dict2.items())       # zip 되어져있는 상태까지만\n",
    "\n",
    "for e in dict2:            \n",
    "    print(e, dict2[e])     # e만 출력할 경우 key값으로 순환이 된다."
   ]
  },
  {
   "cell_type": "code",
   "execution_count": 14,
   "id": "d85bc1dd",
   "metadata": {},
   "outputs": [
    {
     "name": "stdout",
     "output_type": "stream",
     "text": [
      "False\n"
     ]
    }
   ],
   "source": [
    "# if: - else:\n",
    "# if: - elif: - else:\n",
    "\n",
    "if []:\n",
    "    print('True')\n",
    "else:\n",
    "    print('False') # 0, 비어있는 문자열과 list "
   ]
  },
  {
   "cell_type": "code",
   "execution_count": 16,
   "id": "ab454040",
   "metadata": {},
   "outputs": [
    {
     "name": "stdout",
     "output_type": "stream",
     "text": [
      "0 a\n",
      "1 b\n",
      "2 c\n",
      "3 d\n",
      "4 e\n",
      "['a']\n"
     ]
    }
   ],
   "source": [
    "# for - range() / list; enumerate() -> tuple로 반환하는 것임\n",
    "list_a = list('abcde')\n",
    "for i, c in enumerate(list_a):\n",
    "    print(i, c)\n",
    "\n",
    "# while - 조건\n",
    "while len(list_a) > 1:\n",
    "    list_a.remove(list_a[-1])\n",
    "print(list_a)"
   ]
  },
  {
   "cell_type": "code",
   "execution_count": 21,
   "id": "475ca4f6",
   "metadata": {},
   "outputs": [
    {
     "name": "stdout",
     "output_type": "stream",
     "text": [
      "const\n",
      "===========\n",
      "myclass2\n",
      "===========\n",
      "dest\n"
     ]
    }
   ],
   "source": [
    "# 함수\n",
    "def myfunction1(n):\n",
    "    print('myfunction1', n)\n",
    "    return n * 5\n",
    "\n",
    "class myclass:\n",
    "    def mymethod1(self):\n",
    "        print('mymethod1')\n",
    "\n",
    "class myclass2(myclass):\n",
    "    def __init__(self):\n",
    "        print('const')\n",
    "    \n",
    "    def __del__(self):\n",
    "        print('dest')\n",
    "        \n",
    "    def __str__(self):\n",
    "        return 'myclass2'\n",
    "\n",
    "x = myclass2()          # const const\n",
    "print('===========')\n",
    "print(x)                # __str__\n",
    "print('===========')\n",
    "del x                  # __del__ dest"
   ]
  },
  {
   "cell_type": "code",
   "execution_count": 25,
   "id": "14420e32",
   "metadata": {},
   "outputs": [],
   "source": [
    "# file read\n",
    "with open('lott.csv') as f:\n",
    "    for line in f:\n",
    "        pass\n",
    "        #print(line)\n",
    "        \n",
    "# file write\n",
    "with open('test.txt', 'w') as f:     # 'w'; mode : 'w'rite / 'r'ead  default 값이 r임, 'b'inary\n",
    "    for i in range(3, 10):           # 'wb' : write binary\n",
    "        f.write('test string {}\\n'.format(i))"
   ]
  },
  {
   "cell_type": "code",
   "execution_count": 29,
   "id": "fd328609",
   "metadata": {},
   "outputs": [
    {
     "name": "stdout",
     "output_type": "stream",
     "text": [
      "['a', 'b', 'c', 'd']\n"
     ]
    }
   ],
   "source": [
    "import pickle\n",
    "\n",
    "lista = list('abcd')\n",
    "\n",
    "# write\n",
    "with open('pickle_test.pickle', 'wb') as f:\n",
    "    pickle.dump(lista, f)\n",
    "    \n",
    "# read\n",
    "with open('pickle_test.pickle', 'rb') as f:\n",
    "    listb = pickle.load(f)\n",
    "print(listb)"
   ]
  },
  {
   "cell_type": "code",
   "execution_count": null,
   "id": "cbdd8606",
   "metadata": {},
   "outputs": [],
   "source": []
  }
 ],
 "metadata": {
  "kernelspec": {
   "display_name": "Python 3 (ipykernel)",
   "language": "python",
   "name": "python3"
  },
  "language_info": {
   "codemirror_mode": {
    "name": "ipython",
    "version": 3
   },
   "file_extension": ".py",
   "mimetype": "text/x-python",
   "name": "python",
   "nbconvert_exporter": "python",
   "pygments_lexer": "ipython3",
   "version": "3.10.9"
  }
 },
 "nbformat": 4,
 "nbformat_minor": 5
}
