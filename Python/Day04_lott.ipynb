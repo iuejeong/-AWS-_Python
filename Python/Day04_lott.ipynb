{
 "cells": [
  {
   "cell_type": "code",
   "execution_count": 2,
   "id": "e4cea600",
   "metadata": {},
   "outputs": [
    {
     "name": "stdout",
     "output_type": "stream",
     "text": [
      "[['5', '17', '26', '27', '35', '38', '1'], ['21', '26', '30', '32', '33', '35', '44'], ['6', '12', '31', '35', '38', '43', '17']]\n"
     ]
    },
    {
     "data": {
      "text/plain": [
       "1"
      ]
     },
     "execution_count": 2,
     "metadata": {},
     "output_type": "execute_result"
    }
   ],
   "source": [
    "csv_data = []\n",
    "with open('lott.CSV') as f:\n",
    "    for line in f:\n",
    "        csv_data.append(line[:-1].split(','))\n",
    "            \n",
    "        #csv_data.append(line.replace('\\n','').split(','))\n",
    "print(csv_data[:3])\n",
    "int(csv_data[0][-1])\n"
   ]
  },
  {
   "cell_type": "code",
   "execution_count": 3,
   "id": "ef1b4399",
   "metadata": {},
   "outputs": [
    {
     "name": "stdout",
     "output_type": "stream",
     "text": [
      "[[5, 17, 26, 27, 35, 38, 1], [21, 26, 30, 32, 33, 35, 44], [6, 12, 31, 35, 38, 43, 17]]\n"
     ]
    }
   ],
   "source": [
    "for e in csv_data:\n",
    "    for i, e_i in enumerate(e):\n",
    "        e[i] = int(e_i)\n",
    "print(csv_data[:3])"
   ]
  },
  {
   "cell_type": "code",
   "execution_count": 5,
   "id": "5c64427c",
   "metadata": {},
   "outputs": [
    {
     "name": "stdout",
     "output_type": "stream",
     "text": [
      "[1, 5, 17, 26, 27, 35, 38]\n",
      "21.285714285714285\n",
      "21.285714285714285\n",
      "None\n",
      "[1, 5, 17, 26, 27, 35, 38]\n",
      "[5, 17, 26, 27, 35, 38]\n",
      "26\n",
      "26.5\n",
      "[-20.285714285714285, -16.285714285714285, -4.285714285714285, 4.714285714285715, 5.714285714285715, 13.714285714285715, 16.714285714285715]\n",
      "202.90476190476193\n",
      "14.244464254746893\n"
     ]
    }
   ],
   "source": [
    "import math\n",
    "\n",
    "def mean(num_list):\n",
    "    return sum(num_list) / len(num_list)\n",
    "\n",
    "    # avg = sum(num_list)\n",
    "    # return avg / 7 내가 한 거\n",
    "    \n",
    "def mean2(num_list):\n",
    "    sum_value = 0\n",
    "    for i in num_list:\n",
    "        sum_value = sum_value + i\n",
    "    return sum_value / len(num_list)\n",
    "    \n",
    "def median(num_list):\n",
    "    num_list.sort()\n",
    "    if len(num_list) % 2 == 1:\n",
    "        i = (len(num_list)) // 2\n",
    "        return num_list[i]\n",
    "    else:\n",
    "        i = len(num_list) // 2 # //는 몫만 가져와서 정수만 출력\n",
    "        return (num_list[i] + num_list[i - 1]) / 2\n",
    "    \n",
    "def dev(num_list):   # 편차  ->   평균값 대비 얼마나 왔다갔다 하는 가\n",
    "    m = mean(num_list)\n",
    "    return [x - m for x in num_list]\n",
    "    \n",
    "def var (num_list):  # 분산   ->    편차의 대푯성이 있는 값 그래서 숫자가 하나임.\n",
    "    n = len(num_list)\n",
    "    d = dev(num_list)\n",
    "    return sum([x * x for x in d]) / (n - 1)    # 제곱하는 이유는 플러스 값도 있고, 마이너스 값도 있기 때문에\n",
    "\n",
    "def stdev(num_list):  # 표준편차\n",
    "    return math.sqrt(var(num_list)) # math.sqrt\n",
    "\n",
    "def covar(list_1, list_2):    # 공분산\n",
    "    n = len(list_1)\n",
    "    list_1_dev = dev(list_1)\n",
    "    list_2_dev = dev(list_2)\n",
    "    return sum(x * y for x, y in zip(list_1_dev, list_2_dev)) / (n - 1)\n",
    "    \n",
    "\n",
    "def corel(list_1, list_2):    # 상관도 (-1 ~ 1)\n",
    "    return covar(list_1, list_2) / (stdev(list_1) * stdev(list_2))\n",
    "    \n",
    "\n",
    "game1 = csv_data[0]\n",
    "print(game1)\n",
    "print(mean(game1))\n",
    "print(mean2(game1))\n",
    "print(game1.sort())\n",
    "print(game1)\n",
    "print(game1[1:])\n",
    "print(median([1, 5, 17, 26, 27, 35, 38]))\n",
    "print(median([5, 17, 26, 27, 35, 38]))\n",
    "#[5, 17, 26, 27, 35, 38, 1]\n",
    "\n",
    "assert median([5, 17, 26, 27, 35, 38, 1]) == 26\n",
    "assert median([5, 17, 26, 27, 35, 38]) == 26.5\n",
    "\n",
    "print(dev([1, 5, 17, 26, 27, 35, 38]))\n",
    "print(var([1, 5, 17, 26, 27, 35, 38]))\n",
    "print(stdev([1, 5, 17, 26, 27, 35, 38]))"
   ]
  },
  {
   "cell_type": "code",
   "execution_count": 66,
   "id": "240668f8",
   "metadata": {},
   "outputs": [
    {
     "name": "stdout",
     "output_type": "stream",
     "text": [
      "[1, 5, 17, 26, 27, 35, 38]\n",
      "after sorted:  [5, 17, 26, 27, 35, 38, 1]\n",
      "[1, 5, 17, 26, 27, 35, 38]\n"
     ]
    }
   ],
   "source": [
    "# in-place \n",
    "list_a = [5, 17, 26, 27, 35, 38, 1]\n",
    "print(sorted(list_a)) # sorted, 원본을 복사해서 뜯어고침\n",
    "print('after sorted: ', list_a)\n",
    "\n",
    "list_a.sort() # 원본을 뜯어고침\n",
    "print(list_a)"
   ]
  },
  {
   "cell_type": "code",
   "execution_count": 69,
   "id": "e2bb6f1c",
   "metadata": {},
   "outputs": [
    {
     "name": "stdout",
     "output_type": "stream",
     "text": [
      "list_a: [5, 17, 26, 27, 35, 38, 1]\n",
      "list_b: [5, 17, 26, 27, 35, 38, 1]\n",
      "list_a: [100, 17, 26, 27, 35, 38, 1]\n",
      "list_b: [100, 17, 26, 27, 35, 38, 1]\n"
     ]
    }
   ],
   "source": [
    "# reference\n",
    "list_a = [5, 17, 26, 27, 35, 38, 1]\n",
    "list_b = list_a # shallow copy, 얕은 복사 : 복사한 것을 작업하고 나면 원본이 망가질 수도 있음\n",
    "print('list_a:', list_a)\n",
    "print('list_b:', list_b)\n",
    "list_a[0] = 100\n",
    "print('list_a:', list_a)\n",
    "print('list_b:', list_b)"
   ]
  },
  {
   "cell_type": "code",
   "execution_count": 70,
   "id": "3eb4601b",
   "metadata": {},
   "outputs": [
    {
     "name": "stdout",
     "output_type": "stream",
     "text": [
      "list_a: [5, 17, 26, 27, 35, 38, 1]\n",
      "list_b: [5, 17, 26, 27, 35, 38, 1]\n",
      "list_a: [100, 17, 26, 27, 35, 38, 1]\n",
      "list_b: [5, 17, 26, 27, 35, 38, 1]\n"
     ]
    }
   ],
   "source": [
    "list_a = [5, 17, 26, 27, 35, 38, 1]\n",
    "list_b = []\n",
    "for i in list_a:\n",
    "    list_b.append(i) # deep copy, 깊은 복사\n",
    "\n",
    "\n",
    "print('list_a:', list_a)\n",
    "print('list_b:', list_b)\n",
    "list_a[0] = 100\n",
    "print('list_a:', list_a)\n",
    "print('list_b:', list_b)"
   ]
  },
  {
   "cell_type": "code",
   "execution_count": 39,
   "id": "86e3327c",
   "metadata": {},
   "outputs": [
    {
     "name": "stdout",
     "output_type": "stream",
     "text": [
      "Help on class list in module builtins:\n",
      "\n",
      "class list(object)\n",
      " |  list(iterable=(), /)\n",
      " |  \n",
      " |  Built-in mutable sequence.\n",
      " |  \n",
      " |  If no argument is given, the constructor creates a new empty list.\n",
      " |  The argument must be an iterable if specified.\n",
      " |  \n",
      " |  Methods defined here:\n",
      " |  \n",
      " |  __add__(self, value, /)\n",
      " |      Return self+value.\n",
      " |  \n",
      " |  __contains__(self, key, /)\n",
      " |      Return key in self.\n",
      " |  \n",
      " |  __delitem__(self, key, /)\n",
      " |      Delete self[key].\n",
      " |  \n",
      " |  __eq__(self, value, /)\n",
      " |      Return self==value.\n",
      " |  \n",
      " |  __ge__(self, value, /)\n",
      " |      Return self>=value.\n",
      " |  \n",
      " |  __getattribute__(self, name, /)\n",
      " |      Return getattr(self, name).\n",
      " |  \n",
      " |  __getitem__(...)\n",
      " |      x.__getitem__(y) <==> x[y]\n",
      " |  \n",
      " |  __gt__(self, value, /)\n",
      " |      Return self>value.\n",
      " |  \n",
      " |  __iadd__(self, value, /)\n",
      " |      Implement self+=value.\n",
      " |  \n",
      " |  __imul__(self, value, /)\n",
      " |      Implement self*=value.\n",
      " |  \n",
      " |  __init__(self, /, *args, **kwargs)\n",
      " |      Initialize self.  See help(type(self)) for accurate signature.\n",
      " |  \n",
      " |  __iter__(self, /)\n",
      " |      Implement iter(self).\n",
      " |  \n",
      " |  __le__(self, value, /)\n",
      " |      Return self<=value.\n",
      " |  \n",
      " |  __len__(self, /)\n",
      " |      Return len(self).\n",
      " |  \n",
      " |  __lt__(self, value, /)\n",
      " |      Return self<value.\n",
      " |  \n",
      " |  __mul__(self, value, /)\n",
      " |      Return self*value.\n",
      " |  \n",
      " |  __ne__(self, value, /)\n",
      " |      Return self!=value.\n",
      " |  \n",
      " |  __repr__(self, /)\n",
      " |      Return repr(self).\n",
      " |  \n",
      " |  __reversed__(self, /)\n",
      " |      Return a reverse iterator over the list.\n",
      " |  \n",
      " |  __rmul__(self, value, /)\n",
      " |      Return value*self.\n",
      " |  \n",
      " |  __setitem__(self, key, value, /)\n",
      " |      Set self[key] to value.\n",
      " |  \n",
      " |  __sizeof__(self, /)\n",
      " |      Return the size of the list in memory, in bytes.\n",
      " |  \n",
      " |  append(self, object, /)\n",
      " |      Append object to the end of the list.\n",
      " |  \n",
      " |  clear(self, /)\n",
      " |      Remove all items from list.\n",
      " |  \n",
      " |  copy(self, /)\n",
      " |      Return a shallow copy of the list.\n",
      " |  \n",
      " |  count(self, value, /)\n",
      " |      Return number of occurrences of value.\n",
      " |  \n",
      " |  extend(self, iterable, /)\n",
      " |      Extend list by appending elements from the iterable.\n",
      " |  \n",
      " |  index(self, value, start=0, stop=9223372036854775807, /)\n",
      " |      Return first index of value.\n",
      " |      \n",
      " |      Raises ValueError if the value is not present.\n",
      " |  \n",
      " |  insert(self, index, object, /)\n",
      " |      Insert object before index.\n",
      " |  \n",
      " |  pop(self, index=-1, /)\n",
      " |      Remove and return item at index (default last).\n",
      " |      \n",
      " |      Raises IndexError if list is empty or index is out of range.\n",
      " |  \n",
      " |  remove(self, value, /)\n",
      " |      Remove first occurrence of value.\n",
      " |      \n",
      " |      Raises ValueError if the value is not present.\n",
      " |  \n",
      " |  reverse(self, /)\n",
      " |      Reverse *IN PLACE*.\n",
      " |  \n",
      " |  sort(self, /, *, key=None, reverse=False)\n",
      " |      Sort the list in ascending order and return None.\n",
      " |      \n",
      " |      The sort is in-place (i.e. the list itself is modified) and stable (i.e. the\n",
      " |      order of two equal elements is maintained).\n",
      " |      \n",
      " |      If a key function is given, apply it once to each list item and sort them,\n",
      " |      ascending or descending, according to their function values.\n",
      " |      \n",
      " |      The reverse flag can be set to sort in descending order.\n",
      " |  \n",
      " |  ----------------------------------------------------------------------\n",
      " |  Class methods defined here:\n",
      " |  \n",
      " |  __class_getitem__(...) from builtins.type\n",
      " |      See PEP 585\n",
      " |  \n",
      " |  ----------------------------------------------------------------------\n",
      " |  Static methods defined here:\n",
      " |  \n",
      " |  __new__(*args, **kwargs) from builtins.type\n",
      " |      Create and return a new object.  See help(type) for accurate signature.\n",
      " |  \n",
      " |  ----------------------------------------------------------------------\n",
      " |  Data and other attributes defined here:\n",
      " |  \n",
      " |  __hash__ = None\n",
      "\n"
     ]
    }
   ],
   "source": [
    "help(list)"
   ]
  }
 ],
 "metadata": {
  "kernelspec": {
   "display_name": "Python 3 (ipykernel)",
   "language": "python",
   "name": "python3"
  },
  "language_info": {
   "codemirror_mode": {
    "name": "ipython",
    "version": 3
   },
   "file_extension": ".py",
   "mimetype": "text/x-python",
   "name": "python",
   "nbconvert_exporter": "python",
   "pygments_lexer": "ipython3",
   "version": "3.10.9"
  }
 },
 "nbformat": 4,
 "nbformat_minor": 5
}
