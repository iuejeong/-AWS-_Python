{
 "cells": [
  {
   "cell_type": "markdown",
   "id": "02fa505e",
   "metadata": {},
   "source": [
    "# Heading1\n",
    "\n",
    "## Heading2\n",
    "\n",
    "### Heading3\n",
    "\n",
    "Heading\n",
    "======\n",
    "\n",
    "Heading2\n",
    "-------------"
   ]
  },
  {
   "cell_type": "markdown",
   "id": "378e5cfa",
   "metadata": {},
   "source": [
    "문장1 문장2 문장3 \n",
    "\n",
    "문장4\n",
    "\n",
    "문단x"
   ]
  },
  {
   "cell_type": "markdown",
   "id": "ece027ee",
   "metadata": {},
   "source": [
    "* mathjax\n",
    "$$\n",
    "    \\hat y = x_{i} + \\sum 3\n",
    "$$"
   ]
  }
 ],
 "metadata": {
  "kernelspec": {
   "display_name": "Python 3 (ipykernel)",
   "language": "python",
   "name": "python3"
  },
  "language_info": {
   "codemirror_mode": {
    "name": "ipython",
    "version": 3
   },
   "file_extension": ".py",
   "mimetype": "text/x-python",
   "name": "python",
   "nbconvert_exporter": "python",
   "pygments_lexer": "ipython3",
   "version": "3.10.9"
  }
 },
 "nbformat": 4,
 "nbformat_minor": 5
}
